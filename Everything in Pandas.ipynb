{
 "cells": [
  {
   "cell_type": "markdown",
   "metadata": {},
   "source": [
    "## What is Pandas?\n",
    "\n",
    "- It is a python library used to work with datasets.\n",
    "- It has functions for cleaning, analyzing, exploring and manipulating data.\n",
    "- The name Pandas has reference to both 'Panel Data' and 'Python Data Analysis' and was created by Wes McKinney in 2008."
   ]
  },
  {
   "cell_type": "code",
   "execution_count": 1,
   "metadata": {},
   "outputs": [],
   "source": [
    "# Importing pandas library\n",
    "import pandas as pd"
   ]
  },
  {
   "cell_type": "code",
   "execution_count": 2,
   "metadata": {},
   "outputs": [
    {
     "name": "stdout",
     "output_type": "stream",
     "text": [
      "   calories  duration\n",
      "0       420        50\n",
      "1       380        40\n",
      "2       390        45\n"
     ]
    }
   ],
   "source": [
    "# create a simple dataframe in pandas\n",
    "\n",
    "data = {\n",
    "  \"calories\": [420, 380, 390],\n",
    "  \"duration\": [50, 40, 45]\n",
    "}\n",
    "\n",
    "df = pd.DataFrame(data)\n",
    "print(df)"
   ]
  },
  {
   "cell_type": "code",
   "execution_count": 3,
   "metadata": {},
   "outputs": [
    {
     "data": {
      "text/plain": [
       "0    420\n",
       "1    380\n",
       "2    390\n",
       "Name: calories, dtype: int64"
      ]
     },
     "execution_count": 3,
     "metadata": {},
     "output_type": "execute_result"
    }
   ],
   "source": [
    "# accessing first column of the above dataframe\n",
    "df.calories"
   ]
  },
  {
   "cell_type": "code",
   "execution_count": 4,
   "metadata": {},
   "outputs": [
    {
     "data": {
      "text/plain": [
       "calories    420\n",
       "duration     50\n",
       "Name: 0, dtype: int64"
      ]
     },
     "execution_count": 4,
     "metadata": {},
     "output_type": "execute_result"
    }
   ],
   "source": [
    "# accessing first row of the above dataframe\n",
    "df.loc[0]"
   ]
  },
  {
   "cell_type": "code",
   "execution_count": 5,
   "metadata": {},
   "outputs": [
    {
     "data": {
      "text/html": [
       "<div>\n",
       "<style scoped>\n",
       "    .dataframe tbody tr th:only-of-type {\n",
       "        vertical-align: middle;\n",
       "    }\n",
       "\n",
       "    .dataframe tbody tr th {\n",
       "        vertical-align: top;\n",
       "    }\n",
       "\n",
       "    .dataframe thead th {\n",
       "        text-align: right;\n",
       "    }\n",
       "</style>\n",
       "<table border=\"1\" class=\"dataframe\">\n",
       "  <thead>\n",
       "    <tr style=\"text-align: right;\">\n",
       "      <th></th>\n",
       "      <th>calories</th>\n",
       "      <th>duration</th>\n",
       "    </tr>\n",
       "  </thead>\n",
       "  <tbody>\n",
       "    <tr>\n",
       "      <th>0</th>\n",
       "      <td>420</td>\n",
       "      <td>50</td>\n",
       "    </tr>\n",
       "    <tr>\n",
       "      <th>1</th>\n",
       "      <td>380</td>\n",
       "      <td>40</td>\n",
       "    </tr>\n",
       "    <tr>\n",
       "      <th>2</th>\n",
       "      <td>390</td>\n",
       "      <td>45</td>\n",
       "    </tr>\n",
       "  </tbody>\n",
       "</table>\n",
       "</div>"
      ],
      "text/plain": [
       "   calories  duration\n",
       "0       420        50\n",
       "1       380        40\n",
       "2       390        45"
      ]
     },
     "execution_count": 5,
     "metadata": {},
     "output_type": "execute_result"
    }
   ],
   "source": [
    "# return whole dataset\n",
    "df.loc[:]"
   ]
  },
  {
   "cell_type": "code",
   "execution_count": 6,
   "metadata": {},
   "outputs": [
    {
     "data": {
      "text/html": [
       "<div>\n",
       "<style scoped>\n",
       "    .dataframe tbody tr th:only-of-type {\n",
       "        vertical-align: middle;\n",
       "    }\n",
       "\n",
       "    .dataframe tbody tr th {\n",
       "        vertical-align: top;\n",
       "    }\n",
       "\n",
       "    .dataframe thead th {\n",
       "        text-align: right;\n",
       "    }\n",
       "</style>\n",
       "<table border=\"1\" class=\"dataframe\">\n",
       "  <thead>\n",
       "    <tr style=\"text-align: right;\">\n",
       "      <th></th>\n",
       "      <th>calories</th>\n",
       "      <th>duration</th>\n",
       "    </tr>\n",
       "  </thead>\n",
       "  <tbody>\n",
       "    <tr>\n",
       "      <th>0</th>\n",
       "      <td>420</td>\n",
       "      <td>50</td>\n",
       "    </tr>\n",
       "    <tr>\n",
       "      <th>1</th>\n",
       "      <td>380</td>\n",
       "      <td>40</td>\n",
       "    </tr>\n",
       "  </tbody>\n",
       "</table>\n",
       "</div>"
      ],
      "text/plain": [
       "   calories  duration\n",
       "0       420        50\n",
       "1       380        40"
      ]
     },
     "execution_count": 6,
     "metadata": {},
     "output_type": "execute_result"
    }
   ],
   "source": [
    "# return first two rows using loc\n",
    "df.loc[:1]"
   ]
  },
  {
   "cell_type": "code",
   "execution_count": 7,
   "metadata": {},
   "outputs": [
    {
     "name": "stdout",
     "output_type": "stream",
     "text": [
      "      calories  duration\n",
      "day1       420        50\n",
      "day2       380        40\n",
      "day3       390        45\n"
     ]
    }
   ],
   "source": [
    "# creating index while loading the data\n",
    "data = {\n",
    "  \"calories\": [420, 380, 390],\n",
    "  \"duration\": [50, 40, 45]\n",
    "}\n",
    "\n",
    "df = pd.DataFrame(data, index = [\"day1\", \"day2\", \"day3\"])\n",
    "\n",
    "print(df) "
   ]
  },
  {
   "cell_type": "code",
   "execution_count": 8,
   "metadata": {},
   "outputs": [
    {
     "data": {
      "text/plain": [
       "calories    420\n",
       "duration     50\n",
       "Name: day1, dtype: int64"
      ]
     },
     "execution_count": 8,
     "metadata": {},
     "output_type": "execute_result"
    }
   ],
   "source": [
    "# accessing elements using index\n",
    "df.loc['day1']"
   ]
  },
  {
   "cell_type": "code",
   "execution_count": 9,
   "metadata": {},
   "outputs": [
    {
     "data": {
      "text/html": [
       "<div>\n",
       "<style scoped>\n",
       "    .dataframe tbody tr th:only-of-type {\n",
       "        vertical-align: middle;\n",
       "    }\n",
       "\n",
       "    .dataframe tbody tr th {\n",
       "        vertical-align: top;\n",
       "    }\n",
       "\n",
       "    .dataframe thead th {\n",
       "        text-align: right;\n",
       "    }\n",
       "</style>\n",
       "<table border=\"1\" class=\"dataframe\">\n",
       "  <thead>\n",
       "    <tr style=\"text-align: right;\">\n",
       "      <th></th>\n",
       "      <th>product_id</th>\n",
       "      <th>product_name</th>\n",
       "      <th>category</th>\n",
       "      <th>discounted_price</th>\n",
       "      <th>actual_price</th>\n",
       "      <th>discount_percentage</th>\n",
       "      <th>rating</th>\n",
       "      <th>rating_count</th>\n",
       "      <th>about_product</th>\n",
       "      <th>user_id</th>\n",
       "      <th>user_name</th>\n",
       "      <th>review_id</th>\n",
       "      <th>review_title</th>\n",
       "      <th>review_content</th>\n",
       "      <th>img_link</th>\n",
       "      <th>product_link</th>\n",
       "    </tr>\n",
       "  </thead>\n",
       "  <tbody>\n",
       "    <tr>\n",
       "      <th>0</th>\n",
       "      <td>B07JW9H4J1</td>\n",
       "      <td>Wayona Nylon Braided USB to Lightning Fast Cha...</td>\n",
       "      <td>Computers&amp;Accessories|Accessories&amp;Peripherals|...</td>\n",
       "      <td>₹399</td>\n",
       "      <td>₹1,099</td>\n",
       "      <td>64%</td>\n",
       "      <td>4.2</td>\n",
       "      <td>24,269</td>\n",
       "      <td>High Compatibility : Compatible With iPhone 12...</td>\n",
       "      <td>AG3D6O4STAQKAY2UVGEUV46KN35Q,AHMY5CWJMMK5BJRBB...</td>\n",
       "      <td>Manav,Adarsh gupta,Sundeep,S.Sayeed Ahmed,jasp...</td>\n",
       "      <td>R3HXWT0LRP0NMF,R2AJM3LFTLZHFO,R6AQJGUP6P86,R1K...</td>\n",
       "      <td>Satisfied,Charging is really fast,Value for mo...</td>\n",
       "      <td>Looks durable Charging is fine tooNo complains...</td>\n",
       "      <td>https://m.media-amazon.com/images/W/WEBP_40237...</td>\n",
       "      <td>https://www.amazon.in/Wayona-Braided-WN3LG1-Sy...</td>\n",
       "    </tr>\n",
       "    <tr>\n",
       "      <th>1</th>\n",
       "      <td>B098NS6PVG</td>\n",
       "      <td>Ambrane Unbreakable 60W / 3A Fast Charging 1.5...</td>\n",
       "      <td>Computers&amp;Accessories|Accessories&amp;Peripherals|...</td>\n",
       "      <td>₹199</td>\n",
       "      <td>₹349</td>\n",
       "      <td>43%</td>\n",
       "      <td>4.0</td>\n",
       "      <td>43,994</td>\n",
       "      <td>Compatible with all Type C enabled devices, be...</td>\n",
       "      <td>AECPFYFQVRUWC3KGNLJIOREFP5LQ,AGYYVPDD7YG7FYNBX...</td>\n",
       "      <td>ArdKn,Nirbhay kumar,Sagar Viswanathan,Asp,Plac...</td>\n",
       "      <td>RGIQEG07R9HS2,R1SMWZQ86XIN8U,R2J3Y1WL29GWDE,RY...</td>\n",
       "      <td>A Good Braided Cable for Your Type C Device,Go...</td>\n",
       "      <td>I ordered this cable to connect my phone to An...</td>\n",
       "      <td>https://m.media-amazon.com/images/W/WEBP_40237...</td>\n",
       "      <td>https://www.amazon.in/Ambrane-Unbreakable-Char...</td>\n",
       "    </tr>\n",
       "    <tr>\n",
       "      <th>2</th>\n",
       "      <td>B096MSW6CT</td>\n",
       "      <td>Sounce Fast Phone Charging Cable &amp; Data Sync U...</td>\n",
       "      <td>Computers&amp;Accessories|Accessories&amp;Peripherals|...</td>\n",
       "      <td>₹199</td>\n",
       "      <td>₹1,899</td>\n",
       "      <td>90%</td>\n",
       "      <td>3.9</td>\n",
       "      <td>7,928</td>\n",
       "      <td>【 Fast Charger&amp; Data Sync】-With built-in safet...</td>\n",
       "      <td>AGU3BBQ2V2DDAMOAKGFAWDDQ6QHA,AESFLDV2PT363T2AQ...</td>\n",
       "      <td>Kunal,Himanshu,viswanath,sai niharka,saqib mal...</td>\n",
       "      <td>R3J3EQQ9TZI5ZJ,R3E7WBGK7ID0KV,RWU79XKQ6I1QF,R2...</td>\n",
       "      <td>Good speed for earlier versions,Good Product,W...</td>\n",
       "      <td>Not quite durable and sturdy,https://m.media-a...</td>\n",
       "      <td>https://m.media-amazon.com/images/W/WEBP_40237...</td>\n",
       "      <td>https://www.amazon.in/Sounce-iPhone-Charging-C...</td>\n",
       "    </tr>\n",
       "    <tr>\n",
       "      <th>3</th>\n",
       "      <td>B08HDJ86NZ</td>\n",
       "      <td>boAt Deuce USB 300 2 in 1 Type-C &amp; Micro USB S...</td>\n",
       "      <td>Computers&amp;Accessories|Accessories&amp;Peripherals|...</td>\n",
       "      <td>₹329</td>\n",
       "      <td>₹699</td>\n",
       "      <td>53%</td>\n",
       "      <td>4.2</td>\n",
       "      <td>94,363</td>\n",
       "      <td>The boAt Deuce USB 300 2 in 1 cable is compati...</td>\n",
       "      <td>AEWAZDZZJLQUYVOVGBEUKSLXHQ5A,AG5HTSFRRE6NL3M5S...</td>\n",
       "      <td>Omkar dhale,JD,HEMALATHA,Ajwadh a.,amar singh ...</td>\n",
       "      <td>R3EEUZKKK9J36I,R3HJVYCLYOY554,REDECAZ7AMPQC,R1...</td>\n",
       "      <td>Good product,Good one,Nice,Really nice product...</td>\n",
       "      <td>Good product,long wire,Charges good,Nice,I bou...</td>\n",
       "      <td>https://m.media-amazon.com/images/I/41V5FtEWPk...</td>\n",
       "      <td>https://www.amazon.in/Deuce-300-Resistant-Tang...</td>\n",
       "    </tr>\n",
       "    <tr>\n",
       "      <th>4</th>\n",
       "      <td>B08CF3B7N1</td>\n",
       "      <td>Portronics Konnect L 1.2M Fast Charging 3A 8 P...</td>\n",
       "      <td>Computers&amp;Accessories|Accessories&amp;Peripherals|...</td>\n",
       "      <td>₹154</td>\n",
       "      <td>₹399</td>\n",
       "      <td>61%</td>\n",
       "      <td>4.2</td>\n",
       "      <td>16,905</td>\n",
       "      <td>[CHARGE &amp; SYNC FUNCTION]- This cable comes wit...</td>\n",
       "      <td>AE3Q6KSUK5P75D5HFYHCRAOLODSA,AFUGIFH5ZAFXRDSZH...</td>\n",
       "      <td>rahuls6099,Swasat Borah,Ajay Wadke,Pranali,RVK...</td>\n",
       "      <td>R1BP4L2HH9TFUP,R16PVJEXKV6QZS,R2UPDB81N66T4P,R...</td>\n",
       "      <td>As good as original,Decent,Good one for second...</td>\n",
       "      <td>Bought this instead of original apple, does th...</td>\n",
       "      <td>https://m.media-amazon.com/images/W/WEBP_40237...</td>\n",
       "      <td>https://www.amazon.in/Portronics-Konnect-POR-1...</td>\n",
       "    </tr>\n",
       "  </tbody>\n",
       "</table>\n",
       "</div>"
      ],
      "text/plain": [
       "   product_id                                       product_name  \\\n",
       "0  B07JW9H4J1  Wayona Nylon Braided USB to Lightning Fast Cha...   \n",
       "1  B098NS6PVG  Ambrane Unbreakable 60W / 3A Fast Charging 1.5...   \n",
       "2  B096MSW6CT  Sounce Fast Phone Charging Cable & Data Sync U...   \n",
       "3  B08HDJ86NZ  boAt Deuce USB 300 2 in 1 Type-C & Micro USB S...   \n",
       "4  B08CF3B7N1  Portronics Konnect L 1.2M Fast Charging 3A 8 P...   \n",
       "\n",
       "                                            category discounted_price  \\\n",
       "0  Computers&Accessories|Accessories&Peripherals|...             ₹399   \n",
       "1  Computers&Accessories|Accessories&Peripherals|...             ₹199   \n",
       "2  Computers&Accessories|Accessories&Peripherals|...             ₹199   \n",
       "3  Computers&Accessories|Accessories&Peripherals|...             ₹329   \n",
       "4  Computers&Accessories|Accessories&Peripherals|...             ₹154   \n",
       "\n",
       "  actual_price discount_percentage rating rating_count  \\\n",
       "0       ₹1,099                 64%    4.2       24,269   \n",
       "1         ₹349                 43%    4.0       43,994   \n",
       "2       ₹1,899                 90%    3.9        7,928   \n",
       "3         ₹699                 53%    4.2       94,363   \n",
       "4         ₹399                 61%    4.2       16,905   \n",
       "\n",
       "                                       about_product  \\\n",
       "0  High Compatibility : Compatible With iPhone 12...   \n",
       "1  Compatible with all Type C enabled devices, be...   \n",
       "2  【 Fast Charger& Data Sync】-With built-in safet...   \n",
       "3  The boAt Deuce USB 300 2 in 1 cable is compati...   \n",
       "4  [CHARGE & SYNC FUNCTION]- This cable comes wit...   \n",
       "\n",
       "                                             user_id  \\\n",
       "0  AG3D6O4STAQKAY2UVGEUV46KN35Q,AHMY5CWJMMK5BJRBB...   \n",
       "1  AECPFYFQVRUWC3KGNLJIOREFP5LQ,AGYYVPDD7YG7FYNBX...   \n",
       "2  AGU3BBQ2V2DDAMOAKGFAWDDQ6QHA,AESFLDV2PT363T2AQ...   \n",
       "3  AEWAZDZZJLQUYVOVGBEUKSLXHQ5A,AG5HTSFRRE6NL3M5S...   \n",
       "4  AE3Q6KSUK5P75D5HFYHCRAOLODSA,AFUGIFH5ZAFXRDSZH...   \n",
       "\n",
       "                                           user_name  \\\n",
       "0  Manav,Adarsh gupta,Sundeep,S.Sayeed Ahmed,jasp...   \n",
       "1  ArdKn,Nirbhay kumar,Sagar Viswanathan,Asp,Plac...   \n",
       "2  Kunal,Himanshu,viswanath,sai niharka,saqib mal...   \n",
       "3  Omkar dhale,JD,HEMALATHA,Ajwadh a.,amar singh ...   \n",
       "4  rahuls6099,Swasat Borah,Ajay Wadke,Pranali,RVK...   \n",
       "\n",
       "                                           review_id  \\\n",
       "0  R3HXWT0LRP0NMF,R2AJM3LFTLZHFO,R6AQJGUP6P86,R1K...   \n",
       "1  RGIQEG07R9HS2,R1SMWZQ86XIN8U,R2J3Y1WL29GWDE,RY...   \n",
       "2  R3J3EQQ9TZI5ZJ,R3E7WBGK7ID0KV,RWU79XKQ6I1QF,R2...   \n",
       "3  R3EEUZKKK9J36I,R3HJVYCLYOY554,REDECAZ7AMPQC,R1...   \n",
       "4  R1BP4L2HH9TFUP,R16PVJEXKV6QZS,R2UPDB81N66T4P,R...   \n",
       "\n",
       "                                        review_title  \\\n",
       "0  Satisfied,Charging is really fast,Value for mo...   \n",
       "1  A Good Braided Cable for Your Type C Device,Go...   \n",
       "2  Good speed for earlier versions,Good Product,W...   \n",
       "3  Good product,Good one,Nice,Really nice product...   \n",
       "4  As good as original,Decent,Good one for second...   \n",
       "\n",
       "                                      review_content  \\\n",
       "0  Looks durable Charging is fine tooNo complains...   \n",
       "1  I ordered this cable to connect my phone to An...   \n",
       "2  Not quite durable and sturdy,https://m.media-a...   \n",
       "3  Good product,long wire,Charges good,Nice,I bou...   \n",
       "4  Bought this instead of original apple, does th...   \n",
       "\n",
       "                                            img_link  \\\n",
       "0  https://m.media-amazon.com/images/W/WEBP_40237...   \n",
       "1  https://m.media-amazon.com/images/W/WEBP_40237...   \n",
       "2  https://m.media-amazon.com/images/W/WEBP_40237...   \n",
       "3  https://m.media-amazon.com/images/I/41V5FtEWPk...   \n",
       "4  https://m.media-amazon.com/images/W/WEBP_40237...   \n",
       "\n",
       "                                        product_link  \n",
       "0  https://www.amazon.in/Wayona-Braided-WN3LG1-Sy...  \n",
       "1  https://www.amazon.in/Ambrane-Unbreakable-Char...  \n",
       "2  https://www.amazon.in/Sounce-iPhone-Charging-C...  \n",
       "3  https://www.amazon.in/Deuce-300-Resistant-Tang...  \n",
       "4  https://www.amazon.in/Portronics-Konnect-POR-1...  "
      ]
     },
     "execution_count": 9,
     "metadata": {},
     "output_type": "execute_result"
    }
   ],
   "source": [
    "# loading a csv file\n",
    "\n",
    "df = pd.read_csv('amazon.csv')\n",
    "df.head()"
   ]
  },
  {
   "cell_type": "code",
   "execution_count": 10,
   "metadata": {},
   "outputs": [
    {
     "data": {
      "text/plain": [
       "(1465, 16)"
      ]
     },
     "execution_count": 10,
     "metadata": {},
     "output_type": "execute_result"
    }
   ],
   "source": [
    "# checking number of rows and columns\n",
    "df.shape"
   ]
  },
  {
   "cell_type": "code",
   "execution_count": 11,
   "metadata": {},
   "outputs": [],
   "source": [
    "# removing unwanted columns\n",
    "df.drop(['img_link','product_link'], axis=1, inplace=True)"
   ]
  },
  {
   "cell_type": "code",
   "execution_count": 12,
   "metadata": {},
   "outputs": [
    {
     "data": {
      "text/plain": [
       "(1465, 14)"
      ]
     },
     "execution_count": 12,
     "metadata": {},
     "output_type": "execute_result"
    }
   ],
   "source": [
    "# again checking the number of rows and columns\n",
    "df.shape"
   ]
  },
  {
   "cell_type": "code",
   "execution_count": 13,
   "metadata": {},
   "outputs": [
    {
     "data": {
      "text/plain": [
       "Index(['product_id', 'product_name', 'category', 'discounted_price',\n",
       "       'actual_price', 'discount_percentage', 'rating', 'rating_count',\n",
       "       'about_product', 'user_id', 'user_name', 'review_id', 'review_title',\n",
       "       'review_content'],\n",
       "      dtype='object')"
      ]
     },
     "execution_count": 13,
     "metadata": {},
     "output_type": "execute_result"
    }
   ],
   "source": [
    "# checking the column list\n",
    "df.columns"
   ]
  },
  {
   "cell_type": "code",
   "execution_count": 14,
   "metadata": {},
   "outputs": [
    {
     "name": "stdout",
     "output_type": "stream",
     "text": [
      "<class 'pandas.core.frame.DataFrame'>\n",
      "RangeIndex: 1465 entries, 0 to 1464\n",
      "Data columns (total 14 columns):\n",
      " #   Column               Non-Null Count  Dtype \n",
      "---  ------               --------------  ----- \n",
      " 0   product_id           1465 non-null   object\n",
      " 1   product_name         1465 non-null   object\n",
      " 2   category             1465 non-null   object\n",
      " 3   discounted_price     1465 non-null   object\n",
      " 4   actual_price         1465 non-null   object\n",
      " 5   discount_percentage  1465 non-null   object\n",
      " 6   rating               1465 non-null   object\n",
      " 7   rating_count         1463 non-null   object\n",
      " 8   about_product        1465 non-null   object\n",
      " 9   user_id              1465 non-null   object\n",
      " 10  user_name            1465 non-null   object\n",
      " 11  review_id            1465 non-null   object\n",
      " 12  review_title         1465 non-null   object\n",
      " 13  review_content       1465 non-null   object\n",
      "dtypes: object(14)\n",
      "memory usage: 160.4+ KB\n"
     ]
    }
   ],
   "source": [
    "# checking columns and their datatypes\n",
    "df.info()"
   ]
  },
  {
   "cell_type": "code",
   "execution_count": 15,
   "metadata": {},
   "outputs": [
    {
     "data": {
      "text/plain": [
       "product_id             0\n",
       "product_name           0\n",
       "category               0\n",
       "discounted_price       0\n",
       "actual_price           0\n",
       "discount_percentage    0\n",
       "rating                 0\n",
       "rating_count           2\n",
       "about_product          0\n",
       "user_id                0\n",
       "user_name              0\n",
       "review_id              0\n",
       "review_title           0\n",
       "review_content         0\n",
       "dtype: int64"
      ]
     },
     "execution_count": 15,
     "metadata": {},
     "output_type": "execute_result"
    }
   ],
   "source": [
    "# checking the number of null values \n",
    "df.isnull().sum()"
   ]
  },
  {
   "cell_type": "code",
   "execution_count": 16,
   "metadata": {},
   "outputs": [
    {
     "data": {
      "text/plain": [
       "array(['₹399', '₹199', '₹329', '₹154', '₹149', '₹176.63', '₹229', '₹499',\n",
       "       '₹299', '₹219', '₹350', '₹159', '₹349', '₹13,999', '₹249',\n",
       "       '₹13,490', '₹970', '₹279', '₹59', '₹11,499', '₹14,999', '₹179',\n",
       "       '₹389', '₹599', '₹99', '₹899', '₹32,999', '₹209', '₹19,999',\n",
       "       '₹999', '₹333', '₹507', '₹309', '₹1,199', '₹799', '₹6,999', '₹230',\n",
       "       '₹649', '₹15,999', '₹348', '₹32,990', '₹139', '₹263', '₹7,999',\n",
       "       '₹1,599', '₹26,999', '₹115', '₹10,901', '₹1,434', '₹7,299', '₹325',\n",
       "       '₹29,999', '₹27,999', '₹30,990', '₹269', '₹24,999', '₹18,990',\n",
       "       '₹290', '₹345', '₹1,099', '₹719', '₹849', '₹21,999', '₹449',\n",
       "       '₹37,999', '₹7,390', '₹273.10', '₹15,990', '₹210', '₹1,299',\n",
       "       '₹347', '₹228', '₹1,499', '₹8,499', '₹20,990', '₹9,999', '₹489',\n",
       "       '₹23,999', '₹689', '₹1,699', '₹655', '₹749', '₹195', '₹416',\n",
       "       '₹368', '₹29,990', '₹339', '₹15,490', '₹9,490', '₹637', '₹1,089',\n",
       "       '₹12,499', '₹1,399', '₹88', '₹57.89', '₹205', '₹949', '₹379',\n",
       "       '₹8,990', '₹486', '₹5,699', '₹709', '₹47,990', '₹320', '₹129',\n",
       "       '₹225', '₹547', '₹259', '₹239', '₹467', '₹11,990', '₹252', '₹204',\n",
       "       '₹6,490', '₹235', '₹42,999', '₹173', '₹848.99', '₹1,249', '₹213',\n",
       "       '₹598', '₹31,999', '₹128.31', '₹254', '₹89', '₹549', '₹77,990',\n",
       "       '₹182', '₹96', '₹54,990', '₹439', '₹789', '₹790', '₹4,699',\n",
       "       '₹18,999', '₹1,990', '₹2,299', '₹35,999', '₹8,999', '₹917',\n",
       "       '₹45,999', '₹119', '₹21,990', '₹417.44', '₹215', '₹1,289', '₹609',\n",
       "       '₹1,850', '₹13,990', '₹185', '₹218', '₹893', '₹10,990', '₹16,999',\n",
       "       '₹699', '₹2,699', '₹246', '₹247', '₹1,369', '₹24,990', '₹61,999',\n",
       "       '₹24,499', '₹10,499', '₹197', '₹1,519', '₹46,999', '₹1,799',\n",
       "       '₹1,998', '₹1,999', '₹2,049', '₹6,499', '₹28,999', '₹569',\n",
       "       '₹1,898', '₹9,499', '₹959', '₹1,149', '₹1,219', '₹18,499', '₹369',\n",
       "       '₹12,999', '₹2,199', '₹16,499', '₹3,999', '₹2,998', '₹15,499',\n",
       "       '₹873', '₹539', '₹1,075', '₹529', '₹4,790', '₹33,999', '₹10,999',\n",
       "       '₹34,999', '₹2,999', '₹20,999', '₹22,999', '₹134', '₹7,499',\n",
       "       '₹1,324', '₹12,490', '₹17,999', '₹2,099', '₹337', '₹251', '₹95',\n",
       "       '₹4,499', '₹1,989', '₹4,999', '₹2,499', '₹79', '₹2,179', '₹44,999',\n",
       "       '₹2,599', '₹2,799', '₹3,799', '₹281', '₹7,998', '₹120', '₹7,915',\n",
       "       '₹1,055', '₹150', '₹474', '₹265', '₹37,990', '₹314', '₹365',\n",
       "       '₹289', '₹217', '₹1,220', '₹475', '₹798', '₹266', '₹50', '₹130',\n",
       "       '₹4,098', '₹519', '₹1,295', '₹1,889', '₹455', '₹1,059', '₹717',\n",
       "       '₹39', '₹889', '₹191', '₹522', '₹681', '₹429', '₹100', '₹1,049',\n",
       "       '₹656', '₹1,109', '₹169', '₹157', '₹479', '₹1,598', '₹294', '₹828',\n",
       "       '₹745', '₹1,549', '₹1,469', '₹198', '₹12,000', '₹6,299', '₹571',\n",
       "       '₹448', '₹579', '₹137', '₹1,495', '₹440', '₹1,329', '₹570',\n",
       "       '₹1,529', '₹190', '₹729', '₹480', '₹238', '₹1,349', '₹1,792',\n",
       "       '₹3,299', '₹125', '₹561', '₹5,599', '₹69', '₹478', '₹425', '₹378',\n",
       "       '₹1,815', '₹67', '₹5,799', '₹4,449', '₹629', '₹2,595', '₹90',\n",
       "       '₹1,345', '₹287', '₹879', '₹250', '₹469', '₹1,187', '₹328', '₹114',\n",
       "       '₹1,490', '₹575', '₹178', '₹939', '₹1,439', '₹175', '₹3,303',\n",
       "       '₹1,890', '₹310', '₹1,709', '₹2,025', '₹900', '₹2,490', '₹116',\n",
       "       '₹200', '₹2,649', '₹596', '₹330', '₹1,234', '₹272', '₹3,498',\n",
       "       '₹10,099', '₹397', '₹1,679', '₹354', '₹10,389', '₹1,409', '₹5,998',\n",
       "       '₹300', '₹535', '₹341', '₹5,899', '₹1,565', '₹326', '₹657',\n",
       "       '₹1,995', '₹1,500', '₹2,640', '₹5,299', '₹165', '₹398', '₹770',\n",
       "       '₹420', '₹8,349', '₹3,307', '₹380', '₹37,247', '₹298', '₹293',\n",
       "       '₹1,043', '₹1,464', '₹625', '₹1,290', '₹3,600', '₹6,549', '₹1,625',\n",
       "       '₹5,499', '₹2,148', '₹3,599', '₹351', '₹1,614', '₹678', '₹809',\n",
       "       '₹1,969', '₹1,665', '₹3,229', '₹1,260', '₹3,499', '₹1,321', '₹775',\n",
       "       '₹3,190', '₹6,199', '₹1,819', '₹3,249', '₹1,400', '₹355', '₹2,169',\n",
       "       '₹653', '₹4,789', '₹753', '₹353', '₹8,799', '₹2,095', '₹1,498',\n",
       "       '₹3,699', '₹177', '₹244', '₹1,959', '₹319', '₹9,590', '₹292',\n",
       "       '₹160', '₹600', '₹1,130', '₹3,199', '₹616', '₹610', '₹453',\n",
       "       '₹2,464', '₹2,719', '₹2,088', '₹2,399', '₹308', '₹245', '₹3,569',\n",
       "       '₹2,089', '₹2,339', '₹784', '₹1,695', '₹1,448', '₹6,990', '₹2,698',\n",
       "       '₹1,414', '₹5,999', '₹9,970', '₹698', '₹14,400', '₹664', '₹260',\n",
       "       '₹1,484', '₹4,280', '₹189', '₹1,449', '₹3,657.66', '₹1,849',\n",
       "       '₹8,199', '₹1,595', '₹1,182', '₹1,052', '₹1,547', '₹510', '₹1,899',\n",
       "       '₹14,499', '₹950', '₹7,199', '₹2,439', '₹7,799', '₹2,899',\n",
       "       '₹9,799', '₹669', '₹5,890', '₹9,199', '₹6,236', '₹2,742', '₹721',\n",
       "       '₹2,903', '₹1,656', '₹2,079', '₹3,179', '₹4,799', '₹948', '₹850',\n",
       "       '₹3,711', '₹980', '₹3,349', '₹2,249', '₹1,235', '₹6,800', '₹1,069',\n",
       "       '₹2,092', '₹3,859', '₹1,804', '₹6,525', '₹1,189', '₹2,590', '₹998',\n",
       "       '₹998.06', '₹8,886', '₹4,995', '₹395', '₹635', '₹27,900', '₹193',\n",
       "       '₹2,449', '₹2,286', '₹5,395', '₹559', '₹660', '₹419', '₹7,349',\n",
       "       '₹1,474', '₹3,645', '₹375', '₹2,976', '₹2,575', '₹1,649', '₹765',\n",
       "       '₹587', '₹12,609', '₹640', '₹979', '₹5,365', '₹929', '₹3,710',\n",
       "       '₹2,033', '₹9,495', '₹2,790', '₹645', '₹2,237.81', '₹8,699',\n",
       "       '₹42,990', '₹825', '₹161', '₹697', '₹688', '₹6,850', '₹1,090',\n",
       "       '₹295', '₹2,949', '₹335', '₹778', '₹1,190', '₹6,120', '₹3,685',\n",
       "       '₹8,599', '₹1,110', '₹759', '₹2,669', '₹85', '₹5,865', '₹1,928',\n",
       "       '₹1,456', '₹4,899', '₹3,290', '₹5,490', '₹3,041.67', '₹1,745',\n",
       "       '₹3,180', '₹390', '₹1,624', '₹184', '₹445', '₹1,601', '₹231',\n",
       "       '₹6,790', '₹1,982.84', '₹1,180', '₹253', '₹457', '₹426', '₹2,320',\n",
       "       '₹1,563', '₹3,487.77', '₹498', '₹2,695', '₹2,280', '₹2,219',\n",
       "       '₹2,863'], dtype=object)"
      ]
     },
     "execution_count": 16,
     "metadata": {},
     "output_type": "execute_result"
    }
   ],
   "source": [
    "# checking each column one by one. checking discounted_price column first\n",
    "df.discounted_price.unique()"
   ]
  },
  {
   "cell_type": "code",
   "execution_count": 17,
   "metadata": {},
   "outputs": [],
   "source": [
    "# we can see that discounted_price column has rupee sign and also comma. we have to remove that to perform any kind of mathematical operation.\n",
    "\n",
    "df.discounted_price = df.discounted_price.str.replace(\"₹\",'')"
   ]
  },
  {
   "cell_type": "code",
   "execution_count": 18,
   "metadata": {},
   "outputs": [
    {
     "data": {
      "text/plain": [
       "array(['399', '199', '329', '154', '149', '176.63', '229', '499', '299',\n",
       "       '219', '350', '159', '349', '13,999', '249', '13,490', '970',\n",
       "       '279', '59', '11,499', '14,999', '179', '389', '599', '99', '899',\n",
       "       '32,999', '209', '19,999', '999', '333', '507', '309', '1,199',\n",
       "       '799', '6,999', '230', '649', '15,999', '348', '32,990', '139',\n",
       "       '263', '7,999', '1,599', '26,999', '115', '10,901', '1,434',\n",
       "       '7,299', '325', '29,999', '27,999', '30,990', '269', '24,999',\n",
       "       '18,990', '290', '345', '1,099', '719', '849', '21,999', '449',\n",
       "       '37,999', '7,390', '273.10', '15,990', '210', '1,299', '347',\n",
       "       '228', '1,499', '8,499', '20,990', '9,999', '489', '23,999', '689',\n",
       "       '1,699', '655', '749', '195', '416', '368', '29,990', '339',\n",
       "       '15,490', '9,490', '637', '1,089', '12,499', '1,399', '88',\n",
       "       '57.89', '205', '949', '379', '8,990', '486', '5,699', '709',\n",
       "       '47,990', '320', '129', '225', '547', '259', '239', '467',\n",
       "       '11,990', '252', '204', '6,490', '235', '42,999', '173', '848.99',\n",
       "       '1,249', '213', '598', '31,999', '128.31', '254', '89', '549',\n",
       "       '77,990', '182', '96', '54,990', '439', '789', '790', '4,699',\n",
       "       '18,999', '1,990', '2,299', '35,999', '8,999', '917', '45,999',\n",
       "       '119', '21,990', '417.44', '215', '1,289', '609', '1,850',\n",
       "       '13,990', '185', '218', '893', '10,990', '16,999', '699', '2,699',\n",
       "       '246', '247', '1,369', '24,990', '61,999', '24,499', '10,499',\n",
       "       '197', '1,519', '46,999', '1,799', '1,998', '1,999', '2,049',\n",
       "       '6,499', '28,999', '569', '1,898', '9,499', '959', '1,149',\n",
       "       '1,219', '18,499', '369', '12,999', '2,199', '16,499', '3,999',\n",
       "       '2,998', '15,499', '873', '539', '1,075', '529', '4,790', '33,999',\n",
       "       '10,999', '34,999', '2,999', '20,999', '22,999', '134', '7,499',\n",
       "       '1,324', '12,490', '17,999', '2,099', '337', '251', '95', '4,499',\n",
       "       '1,989', '4,999', '2,499', '79', '2,179', '44,999', '2,599',\n",
       "       '2,799', '3,799', '281', '7,998', '120', '7,915', '1,055', '150',\n",
       "       '474', '265', '37,990', '314', '365', '289', '217', '1,220', '475',\n",
       "       '798', '266', '50', '130', '4,098', '519', '1,295', '1,889', '455',\n",
       "       '1,059', '717', '39', '889', '191', '522', '681', '429', '100',\n",
       "       '1,049', '656', '1,109', '169', '157', '479', '1,598', '294',\n",
       "       '828', '745', '1,549', '1,469', '198', '12,000', '6,299', '571',\n",
       "       '448', '579', '137', '1,495', '440', '1,329', '570', '1,529',\n",
       "       '190', '729', '480', '238', '1,349', '1,792', '3,299', '125',\n",
       "       '561', '5,599', '69', '478', '425', '378', '1,815', '67', '5,799',\n",
       "       '4,449', '629', '2,595', '90', '1,345', '287', '879', '250', '469',\n",
       "       '1,187', '328', '114', '1,490', '575', '178', '939', '1,439',\n",
       "       '175', '3,303', '1,890', '310', '1,709', '2,025', '900', '2,490',\n",
       "       '116', '200', '2,649', '596', '330', '1,234', '272', '3,498',\n",
       "       '10,099', '397', '1,679', '354', '10,389', '1,409', '5,998', '300',\n",
       "       '535', '341', '5,899', '1,565', '326', '657', '1,995', '1,500',\n",
       "       '2,640', '5,299', '165', '398', '770', '420', '8,349', '3,307',\n",
       "       '380', '37,247', '298', '293', '1,043', '1,464', '625', '1,290',\n",
       "       '3,600', '6,549', '1,625', '5,499', '2,148', '3,599', '351',\n",
       "       '1,614', '678', '809', '1,969', '1,665', '3,229', '1,260', '3,499',\n",
       "       '1,321', '775', '3,190', '6,199', '1,819', '3,249', '1,400', '355',\n",
       "       '2,169', '653', '4,789', '753', '353', '8,799', '2,095', '1,498',\n",
       "       '3,699', '177', '244', '1,959', '319', '9,590', '292', '160',\n",
       "       '600', '1,130', '3,199', '616', '610', '453', '2,464', '2,719',\n",
       "       '2,088', '2,399', '308', '245', '3,569', '2,089', '2,339', '784',\n",
       "       '1,695', '1,448', '6,990', '2,698', '1,414', '5,999', '9,970',\n",
       "       '698', '14,400', '664', '260', '1,484', '4,280', '189', '1,449',\n",
       "       '3,657.66', '1,849', '8,199', '1,595', '1,182', '1,052', '1,547',\n",
       "       '510', '1,899', '14,499', '950', '7,199', '2,439', '7,799',\n",
       "       '2,899', '9,799', '669', '5,890', '9,199', '6,236', '2,742', '721',\n",
       "       '2,903', '1,656', '2,079', '3,179', '4,799', '948', '850', '3,711',\n",
       "       '980', '3,349', '2,249', '1,235', '6,800', '1,069', '2,092',\n",
       "       '3,859', '1,804', '6,525', '1,189', '2,590', '998', '998.06',\n",
       "       '8,886', '4,995', '395', '635', '27,900', '193', '2,449', '2,286',\n",
       "       '5,395', '559', '660', '419', '7,349', '1,474', '3,645', '375',\n",
       "       '2,976', '2,575', '1,649', '765', '587', '12,609', '640', '979',\n",
       "       '5,365', '929', '3,710', '2,033', '9,495', '2,790', '645',\n",
       "       '2,237.81', '8,699', '42,990', '825', '161', '697', '688', '6,850',\n",
       "       '1,090', '295', '2,949', '335', '778', '1,190', '6,120', '3,685',\n",
       "       '8,599', '1,110', '759', '2,669', '85', '5,865', '1,928', '1,456',\n",
       "       '4,899', '3,290', '5,490', '3,041.67', '1,745', '3,180', '390',\n",
       "       '1,624', '184', '445', '1,601', '231', '6,790', '1,982.84',\n",
       "       '1,180', '253', '457', '426', '2,320', '1,563', '3,487.77', '498',\n",
       "       '2,695', '2,280', '2,219', '2,863'], dtype=object)"
      ]
     },
     "execution_count": 18,
     "metadata": {},
     "output_type": "execute_result"
    }
   ],
   "source": [
    "# checking the unique values now\n",
    "\n",
    "df.discounted_price.unique()"
   ]
  },
  {
   "cell_type": "code",
   "execution_count": 19,
   "metadata": {},
   "outputs": [],
   "source": [
    "# removing comma from this column\n",
    "\n",
    "df.discounted_price = df.discounted_price.str.replace(',','')"
   ]
  },
  {
   "cell_type": "code",
   "execution_count": 20,
   "metadata": {},
   "outputs": [
    {
     "data": {
      "text/plain": [
       "array(['399', '199', '329', '154', '149', '176.63', '229', '499', '299',\n",
       "       '219', '350', '159', '349', '13999', '249', '13490', '970', '279',\n",
       "       '59', '11499', '14999', '179', '389', '599', '99', '899', '32999',\n",
       "       '209', '19999', '999', '333', '507', '309', '1199', '799', '6999',\n",
       "       '230', '649', '15999', '348', '32990', '139', '263', '7999',\n",
       "       '1599', '26999', '115', '10901', '1434', '7299', '325', '29999',\n",
       "       '27999', '30990', '269', '24999', '18990', '290', '345', '1099',\n",
       "       '719', '849', '21999', '449', '37999', '7390', '273.10', '15990',\n",
       "       '210', '1299', '347', '228', '1499', '8499', '20990', '9999',\n",
       "       '489', '23999', '689', '1699', '655', '749', '195', '416', '368',\n",
       "       '29990', '339', '15490', '9490', '637', '1089', '12499', '1399',\n",
       "       '88', '57.89', '205', '949', '379', '8990', '486', '5699', '709',\n",
       "       '47990', '320', '129', '225', '547', '259', '239', '467', '11990',\n",
       "       '252', '204', '6490', '235', '42999', '173', '848.99', '1249',\n",
       "       '213', '598', '31999', '128.31', '254', '89', '549', '77990',\n",
       "       '182', '96', '54990', '439', '789', '790', '4699', '18999', '1990',\n",
       "       '2299', '35999', '8999', '917', '45999', '119', '21990', '417.44',\n",
       "       '215', '1289', '609', '1850', '13990', '185', '218', '893',\n",
       "       '10990', '16999', '699', '2699', '246', '247', '1369', '24990',\n",
       "       '61999', '24499', '10499', '197', '1519', '46999', '1799', '1998',\n",
       "       '1999', '2049', '6499', '28999', '569', '1898', '9499', '959',\n",
       "       '1149', '1219', '18499', '369', '12999', '2199', '16499', '3999',\n",
       "       '2998', '15499', '873', '539', '1075', '529', '4790', '33999',\n",
       "       '10999', '34999', '2999', '20999', '22999', '134', '7499', '1324',\n",
       "       '12490', '17999', '2099', '337', '251', '95', '4499', '1989',\n",
       "       '4999', '2499', '79', '2179', '44999', '2599', '2799', '3799',\n",
       "       '281', '7998', '120', '7915', '1055', '150', '474', '265', '37990',\n",
       "       '314', '365', '289', '217', '1220', '475', '798', '266', '50',\n",
       "       '130', '4098', '519', '1295', '1889', '455', '1059', '717', '39',\n",
       "       '889', '191', '522', '681', '429', '100', '1049', '656', '1109',\n",
       "       '169', '157', '479', '1598', '294', '828', '745', '1549', '1469',\n",
       "       '198', '12000', '6299', '571', '448', '579', '137', '1495', '440',\n",
       "       '1329', '570', '1529', '190', '729', '480', '238', '1349', '1792',\n",
       "       '3299', '125', '561', '5599', '69', '478', '425', '378', '1815',\n",
       "       '67', '5799', '4449', '629', '2595', '90', '1345', '287', '879',\n",
       "       '250', '469', '1187', '328', '114', '1490', '575', '178', '939',\n",
       "       '1439', '175', '3303', '1890', '310', '1709', '2025', '900',\n",
       "       '2490', '116', '200', '2649', '596', '330', '1234', '272', '3498',\n",
       "       '10099', '397', '1679', '354', '10389', '1409', '5998', '300',\n",
       "       '535', '341', '5899', '1565', '326', '657', '1995', '1500', '2640',\n",
       "       '5299', '165', '398', '770', '420', '8349', '3307', '380', '37247',\n",
       "       '298', '293', '1043', '1464', '625', '1290', '3600', '6549',\n",
       "       '1625', '5499', '2148', '3599', '351', '1614', '678', '809',\n",
       "       '1969', '1665', '3229', '1260', '3499', '1321', '775', '3190',\n",
       "       '6199', '1819', '3249', '1400', '355', '2169', '653', '4789',\n",
       "       '753', '353', '8799', '2095', '1498', '3699', '177', '244', '1959',\n",
       "       '319', '9590', '292', '160', '600', '1130', '3199', '616', '610',\n",
       "       '453', '2464', '2719', '2088', '2399', '308', '245', '3569',\n",
       "       '2089', '2339', '784', '1695', '1448', '6990', '2698', '1414',\n",
       "       '5999', '9970', '698', '14400', '664', '260', '1484', '4280',\n",
       "       '189', '1449', '3657.66', '1849', '8199', '1595', '1182', '1052',\n",
       "       '1547', '510', '1899', '14499', '950', '7199', '2439', '7799',\n",
       "       '2899', '9799', '669', '5890', '9199', '6236', '2742', '721',\n",
       "       '2903', '1656', '2079', '3179', '4799', '948', '850', '3711',\n",
       "       '980', '3349', '2249', '1235', '6800', '1069', '2092', '3859',\n",
       "       '1804', '6525', '1189', '2590', '998', '998.06', '8886', '4995',\n",
       "       '395', '635', '27900', '193', '2449', '2286', '5395', '559', '660',\n",
       "       '419', '7349', '1474', '3645', '375', '2976', '2575', '1649',\n",
       "       '765', '587', '12609', '640', '979', '5365', '929', '3710', '2033',\n",
       "       '9495', '2790', '645', '2237.81', '8699', '42990', '825', '161',\n",
       "       '697', '688', '6850', '1090', '295', '2949', '335', '778', '1190',\n",
       "       '6120', '3685', '8599', '1110', '759', '2669', '85', '5865',\n",
       "       '1928', '1456', '4899', '3290', '5490', '3041.67', '1745', '3180',\n",
       "       '390', '1624', '184', '445', '1601', '231', '6790', '1982.84',\n",
       "       '1180', '253', '457', '426', '2320', '1563', '3487.77', '498',\n",
       "       '2695', '2280', '2219', '2863'], dtype=object)"
      ]
     },
     "execution_count": 20,
     "metadata": {},
     "output_type": "execute_result"
    }
   ],
   "source": [
    "# again checking unique values in the discounted_price column\n",
    "df.discounted_price.unique()"
   ]
  },
  {
   "cell_type": "code",
   "execution_count": 21,
   "metadata": {},
   "outputs": [
    {
     "name": "stdout",
     "output_type": "stream",
     "text": [
      "<class 'pandas.core.frame.DataFrame'>\n",
      "RangeIndex: 1465 entries, 0 to 1464\n",
      "Data columns (total 14 columns):\n",
      " #   Column               Non-Null Count  Dtype \n",
      "---  ------               --------------  ----- \n",
      " 0   product_id           1465 non-null   object\n",
      " 1   product_name         1465 non-null   object\n",
      " 2   category             1465 non-null   object\n",
      " 3   discounted_price     1465 non-null   object\n",
      " 4   actual_price         1465 non-null   object\n",
      " 5   discount_percentage  1465 non-null   object\n",
      " 6   rating               1465 non-null   object\n",
      " 7   rating_count         1463 non-null   object\n",
      " 8   about_product        1465 non-null   object\n",
      " 9   user_id              1465 non-null   object\n",
      " 10  user_name            1465 non-null   object\n",
      " 11  review_id            1465 non-null   object\n",
      " 12  review_title         1465 non-null   object\n",
      " 13  review_content       1465 non-null   object\n",
      "dtypes: object(14)\n",
      "memory usage: 160.4+ KB\n"
     ]
    }
   ],
   "source": [
    "# checking the info again\n",
    "df.info()"
   ]
  },
  {
   "cell_type": "code",
   "execution_count": 22,
   "metadata": {},
   "outputs": [],
   "source": [
    "# we can see that discounted_price has a datatype of object but we want float. So we have to convert it.\n",
    "df.discounted_price = df.discounted_price.astype('float64')"
   ]
  },
  {
   "cell_type": "code",
   "execution_count": 23,
   "metadata": {},
   "outputs": [
    {
     "name": "stdout",
     "output_type": "stream",
     "text": [
      "<class 'pandas.core.frame.DataFrame'>\n",
      "RangeIndex: 1465 entries, 0 to 1464\n",
      "Data columns (total 14 columns):\n",
      " #   Column               Non-Null Count  Dtype  \n",
      "---  ------               --------------  -----  \n",
      " 0   product_id           1465 non-null   object \n",
      " 1   product_name         1465 non-null   object \n",
      " 2   category             1465 non-null   object \n",
      " 3   discounted_price     1465 non-null   float64\n",
      " 4   actual_price         1465 non-null   object \n",
      " 5   discount_percentage  1465 non-null   object \n",
      " 6   rating               1465 non-null   object \n",
      " 7   rating_count         1463 non-null   object \n",
      " 8   about_product        1465 non-null   object \n",
      " 9   user_id              1465 non-null   object \n",
      " 10  user_name            1465 non-null   object \n",
      " 11  review_id            1465 non-null   object \n",
      " 12  review_title         1465 non-null   object \n",
      " 13  review_content       1465 non-null   object \n",
      "dtypes: float64(1), object(13)\n",
      "memory usage: 160.4+ KB\n"
     ]
    }
   ],
   "source": [
    "# again checking the info\n",
    "df.info()"
   ]
  },
  {
   "cell_type": "code",
   "execution_count": 24,
   "metadata": {},
   "outputs": [
    {
     "data": {
      "text/plain": [
       "array(['₹1,099', '₹349', '₹1,899', '₹699', '₹399', '₹1,000', '₹499',\n",
       "       '₹299', '₹999', '₹339', '₹799', '₹700', '₹899', '₹24,999',\n",
       "       '₹21,990', '₹1,799', '₹22,900', '₹199', '₹19,990', '₹19,999',\n",
       "       '₹1,999', '₹750', '₹599', '₹666.66', '₹1,900', '₹45,999', '₹695',\n",
       "       '₹34,999', '₹1,599', '₹1,208', '₹475', '₹395', '₹2,199', '₹500',\n",
       "       '₹2,100', '₹12,999', '₹1,399', '₹21,999', '₹1,499', '₹47,900',\n",
       "       '₹845', '₹1,400', '₹14,990', '₹2,999', '₹42,999', '₹30,990',\n",
       "       '₹3,999', '₹249', '₹19,125', '₹1,299', '₹39,999', '₹40,990',\n",
       "       '₹52,900', '₹800', '₹31,999', '₹1,809', '₹29,999', '₹65,000',\n",
       "       '₹20,000', '₹23,990', '₹15,999', '₹44,990', '₹44,999', '₹1,700',\n",
       "       '₹595', '₹27,990', '₹1,200', '₹34,990', '₹1,500', '₹49,990',\n",
       "       '₹931', '₹2,399', '₹1,339', '₹20,900', '₹15,990', '₹1,600', '₹849',\n",
       "       '₹1,199', '₹22,990', '₹2,499', '₹47,990', '₹485', '₹18,990',\n",
       "       '₹11,000', '₹70,900', '₹549', '₹35,999', '₹1,699', '₹31,990',\n",
       "       '₹9,990', '₹16,990', '₹59,999', '₹600', '₹1,490', '₹2,299',\n",
       "       '₹4,999', '₹1,749', '₹1,100', '₹49,999', '₹56,790', '₹795', '₹798',\n",
       "       '₹995', '₹1,39,900', '₹85,000', '₹758', '₹4,699', '₹24,990',\n",
       "       '₹650', '₹3,100', '₹18,999', '₹69,900', '₹670', '₹79,990',\n",
       "       '₹35,000', '₹54,990', '₹50,999', '₹4,500', '₹28,900', '₹449',\n",
       "       '₹900', '₹1,052', '₹25,999', '₹3,500', '₹14,999', '₹51,990',\n",
       "       '₹69,999', '₹50,000', '₹19,499', '₹9,999', '₹7,990', '₹8,999',\n",
       "       '₹28,999', '₹6,990', '₹11,999', '₹1,800', '₹7,999', '₹17,999',\n",
       "       '₹20,999', '₹10,999', '₹8,499', '₹495', '₹16,999', '₹5,999',\n",
       "       '₹20,990', '₹3,990', '₹33,999', '₹38,999', '₹26,999', '₹649',\n",
       "       '₹171', '₹2,899', '₹29,990', '₹1,630', '₹13,499', '₹6,999',\n",
       "       '₹6,499', '₹2,990', '₹2,400', '₹149', '₹5,299', '₹32,999',\n",
       "       '₹39,990', '₹3,499', '₹2,599', '₹1,249', '₹9,499', '₹74,999',\n",
       "       '₹4,490', '₹895', '₹237', '₹1,995', '₹315', '₹50', '₹165',\n",
       "       '₹1,290', '₹2,498', '₹5,499', '₹1,350', '₹1,295', '₹761', '₹2,500',\n",
       "       '₹180', '₹225', '₹4,499', '₹550', '₹3,490', '₹250', '₹2,800',\n",
       "       '₹404', '₹160', '₹3,000', '₹861', '₹2,495', '₹13,750', '₹59',\n",
       "       '₹3,299', '₹375', '₹440', '₹2,000', '₹2,900', '₹100', '₹1,795',\n",
       "       '₹220', '₹1,650', '₹2,198', '₹4,100', '₹1,190', '₹99', '₹3,495',\n",
       "       '₹720', '₹590', '₹7,350', '₹2,595', '₹2,490', '₹4,990', '₹75',\n",
       "       '₹2,699', '₹5,734', '₹1,390', '₹3,295', '₹2,911', '₹175', '₹3,250',\n",
       "       '₹2,295', '₹450', '₹1,109', '₹1,929', '₹400', '₹120', '₹2,799',\n",
       "       '₹210', '₹2,890', '₹4,700', '₹4,332.96', '₹990', '₹5,490',\n",
       "       '₹2,790', '₹1,645', '₹310', '₹4,199', '₹4,000', '₹200', '₹230',\n",
       "       '₹2,796', '₹723', '₹12,499', '₹320', '₹3,875', '₹19,110', '₹150',\n",
       "       '₹775', '₹32,000', '₹1,300', '₹300', '₹535', '₹7,005', '₹2,895',\n",
       "       '₹3,195', '₹6,355', '₹7,500', '₹39', '₹37,999', '₹1,990', '₹1,949',\n",
       "       '₹1,547', '₹1,150', '₹1,090', '₹3,599', '₹420', '₹9,625', '₹6,100',\n",
       "       '₹59,890', '₹1,245', '₹1,695', '₹1,549', '₹1,445', '₹3,193',\n",
       "       '₹1,345', '₹6,190', '₹13,999', '₹2,995', '₹5,890', '₹13,150',\n",
       "       '₹785', '₹3,210', '₹1,595', '₹3,645', '₹7,950', '₹1,745', '₹1,545',\n",
       "       '₹5,000', '₹3,945', '₹2,099', '₹5,295', '₹3,595', '₹1,129',\n",
       "       '₹5,795', '₹875', '₹15,270', '₹4,195', '₹1,989', '₹1,111',\n",
       "       '₹10,400', '₹6,295', '₹9,650', '₹10,590', '₹89', '₹2,485',\n",
       "       '₹3,279', '₹3,799', '₹7,299', '₹625', '₹1,020', '₹8,990', '₹1,639',\n",
       "       '₹11,595', '₹1,750', '₹2,095', '₹2,300', '₹4,295', '₹749',\n",
       "       '₹1,775', '₹1,130', '₹9,455', '₹825', '₹9,995', '₹6,000', '₹5,550',\n",
       "       '₹4,590', '₹4,400', '₹5,190', '₹940', '₹79', '₹14,290', '₹1,950',\n",
       "       '₹3,190', '₹2,660', '₹59,900', '₹6,375', '₹350', '₹8,500',\n",
       "       '₹1,560', '₹6,500', '₹7,795', '₹5,995', '₹2,349', '₹4,775',\n",
       "       '₹1,230', '₹5,156', '₹19,825', '₹1,920', '₹16,000', '₹11,995',\n",
       "       '₹1,690', '₹1,790', '₹8,995', '₹239', '₹4,290', '₹640', '₹3,790',\n",
       "       '₹4,560', '₹2,600', '₹3,300', '₹23,559', '₹2,545', '₹5,500',\n",
       "       '₹12,150', '₹4,995', '₹7,506', '₹18,000', '₹1,850', '₹3,995',\n",
       "       '₹2,695', '₹2,290', '₹3,099', '₹1,075', '₹7,290', '₹3,398',\n",
       "       '₹1,620', '₹4,495', '₹980', '₹11,500', '₹3,550', '₹1,975',\n",
       "       '₹4,600', '₹10,295', '₹2,380', '₹8,820', '₹4,200', '₹1,282',\n",
       "       '₹11,850', '₹20,049', '₹24,850', '₹16,490', '₹975', '₹635',\n",
       "       '₹3,390', '₹1,010', '₹10,900', '₹4,005', '₹4,650', '₹24,500',\n",
       "       '₹6,070', '₹6,700', '₹970', '₹23,999', '₹850', '₹7,445', '₹1,395',\n",
       "       '₹4,330', '₹12,500', '₹2,385', '₹4,890', '₹3,899', '₹16,899',\n",
       "       '₹75,990', '₹747', '₹11,990', '₹4,849', '₹510', '₹2,550', '₹8,478',\n",
       "       '₹3,895', '₹5,495', '₹3,199', '₹7,776', '₹2,590', '₹6,299',\n",
       "       '₹4,799', '₹5,799', '₹7,200', '₹389', '₹13,049', '₹3,890', '₹260',\n",
       "       '₹8,073', '₹2,360', '₹11,495', '₹4,780', '₹10,995', '₹1,440',\n",
       "       '₹3,045', '₹3,290', '₹3,098', '₹919', '₹3,080', '₹1,890', '₹3,690'],\n",
       "      dtype=object)"
      ]
     },
     "execution_count": 24,
     "metadata": {},
     "output_type": "execute_result"
    }
   ],
   "source": [
    "# Analyzing actual_price column now\n",
    "df.actual_price.unique()"
   ]
  },
  {
   "cell_type": "code",
   "execution_count": 25,
   "metadata": {},
   "outputs": [],
   "source": [
    "# do the same thing for actual_price\n",
    "\n",
    "df.actual_price = df.actual_price.str.replace(\"₹\",'')\n",
    "df.actual_price = df.actual_price.str.replace(',','')\n"
   ]
  },
  {
   "cell_type": "code",
   "execution_count": 26,
   "metadata": {},
   "outputs": [
    {
     "data": {
      "text/plain": [
       "array(['1099', '349', '1899', '699', '399', '1000', '499', '299', '999',\n",
       "       '339', '799', '700', '899', '24999', '21990', '1799', '22900',\n",
       "       '199', '19990', '19999', '1999', '750', '599', '666.66', '1900',\n",
       "       '45999', '695', '34999', '1599', '1208', '475', '395', '2199',\n",
       "       '500', '2100', '12999', '1399', '21999', '1499', '47900', '845',\n",
       "       '1400', '14990', '2999', '42999', '30990', '3999', '249', '19125',\n",
       "       '1299', '39999', '40990', '52900', '800', '31999', '1809', '29999',\n",
       "       '65000', '20000', '23990', '15999', '44990', '44999', '1700',\n",
       "       '595', '27990', '1200', '34990', '1500', '49990', '931', '2399',\n",
       "       '1339', '20900', '15990', '1600', '849', '1199', '22990', '2499',\n",
       "       '47990', '485', '18990', '11000', '70900', '549', '35999', '1699',\n",
       "       '31990', '9990', '16990', '59999', '600', '1490', '2299', '4999',\n",
       "       '1749', '1100', '49999', '56790', '795', '798', '995', '139900',\n",
       "       '85000', '758', '4699', '24990', '650', '3100', '18999', '69900',\n",
       "       '670', '79990', '35000', '54990', '50999', '4500', '28900', '449',\n",
       "       '900', '1052', '25999', '3500', '14999', '51990', '69999', '50000',\n",
       "       '19499', '9999', '7990', '8999', '28999', '6990', '11999', '1800',\n",
       "       '7999', '17999', '20999', '10999', '8499', '495', '16999', '5999',\n",
       "       '20990', '3990', '33999', '38999', '26999', '649', '171', '2899',\n",
       "       '29990', '1630', '13499', '6999', '6499', '2990', '2400', '149',\n",
       "       '5299', '32999', '39990', '3499', '2599', '1249', '9499', '74999',\n",
       "       '4490', '895', '237', '1995', '315', '50', '165', '1290', '2498',\n",
       "       '5499', '1350', '1295', '761', '2500', '180', '225', '4499', '550',\n",
       "       '3490', '250', '2800', '404', '160', '3000', '861', '2495',\n",
       "       '13750', '59', '3299', '375', '440', '2000', '2900', '100', '1795',\n",
       "       '220', '1650', '2198', '4100', '1190', '99', '3495', '720', '590',\n",
       "       '7350', '2595', '2490', '4990', '75', '2699', '5734', '1390',\n",
       "       '3295', '2911', '175', '3250', '2295', '450', '1109', '1929',\n",
       "       '400', '120', '2799', '210', '2890', '4700', '4332.96', '990',\n",
       "       '5490', '2790', '1645', '310', '4199', '4000', '200', '230',\n",
       "       '2796', '723', '12499', '320', '3875', '19110', '150', '775',\n",
       "       '32000', '1300', '300', '535', '7005', '2895', '3195', '6355',\n",
       "       '7500', '39', '37999', '1990', '1949', '1547', '1150', '1090',\n",
       "       '3599', '420', '9625', '6100', '59890', '1245', '1695', '1549',\n",
       "       '1445', '3193', '1345', '6190', '13999', '2995', '5890', '13150',\n",
       "       '785', '3210', '1595', '3645', '7950', '1745', '1545', '5000',\n",
       "       '3945', '2099', '5295', '3595', '1129', '5795', '875', '15270',\n",
       "       '4195', '1989', '1111', '10400', '6295', '9650', '10590', '89',\n",
       "       '2485', '3279', '3799', '7299', '625', '1020', '8990', '1639',\n",
       "       '11595', '1750', '2095', '2300', '4295', '749', '1775', '1130',\n",
       "       '9455', '825', '9995', '6000', '5550', '4590', '4400', '5190',\n",
       "       '940', '79', '14290', '1950', '3190', '2660', '59900', '6375',\n",
       "       '350', '8500', '1560', '6500', '7795', '5995', '2349', '4775',\n",
       "       '1230', '5156', '19825', '1920', '16000', '11995', '1690', '1790',\n",
       "       '8995', '239', '4290', '640', '3790', '4560', '2600', '3300',\n",
       "       '23559', '2545', '5500', '12150', '4995', '7506', '18000', '1850',\n",
       "       '3995', '2695', '2290', '3099', '1075', '7290', '3398', '1620',\n",
       "       '4495', '980', '11500', '3550', '1975', '4600', '10295', '2380',\n",
       "       '8820', '4200', '1282', '11850', '20049', '24850', '16490', '975',\n",
       "       '635', '3390', '1010', '10900', '4005', '4650', '24500', '6070',\n",
       "       '6700', '970', '23999', '850', '7445', '1395', '4330', '12500',\n",
       "       '2385', '4890', '3899', '16899', '75990', '747', '11990', '4849',\n",
       "       '510', '2550', '8478', '3895', '5495', '3199', '7776', '2590',\n",
       "       '6299', '4799', '5799', '7200', '389', '13049', '3890', '260',\n",
       "       '8073', '2360', '11495', '4780', '10995', '1440', '3045', '3290',\n",
       "       '3098', '919', '3080', '1890', '3690'], dtype=object)"
      ]
     },
     "execution_count": 26,
     "metadata": {},
     "output_type": "execute_result"
    }
   ],
   "source": [
    "# again checking the actual_price column\n",
    "df.actual_price.unique()"
   ]
  },
  {
   "cell_type": "code",
   "execution_count": 27,
   "metadata": {},
   "outputs": [
    {
     "name": "stdout",
     "output_type": "stream",
     "text": [
      "<class 'pandas.core.frame.DataFrame'>\n",
      "RangeIndex: 1465 entries, 0 to 1464\n",
      "Data columns (total 14 columns):\n",
      " #   Column               Non-Null Count  Dtype  \n",
      "---  ------               --------------  -----  \n",
      " 0   product_id           1465 non-null   object \n",
      " 1   product_name         1465 non-null   object \n",
      " 2   category             1465 non-null   object \n",
      " 3   discounted_price     1465 non-null   float64\n",
      " 4   actual_price         1465 non-null   object \n",
      " 5   discount_percentage  1465 non-null   object \n",
      " 6   rating               1465 non-null   object \n",
      " 7   rating_count         1463 non-null   object \n",
      " 8   about_product        1465 non-null   object \n",
      " 9   user_id              1465 non-null   object \n",
      " 10  user_name            1465 non-null   object \n",
      " 11  review_id            1465 non-null   object \n",
      " 12  review_title         1465 non-null   object \n",
      " 13  review_content       1465 non-null   object \n",
      "dtypes: float64(1), object(13)\n",
      "memory usage: 160.4+ KB\n"
     ]
    }
   ],
   "source": [
    "# again chekcing the info\n",
    "df.info()"
   ]
  },
  {
   "cell_type": "code",
   "execution_count": 28,
   "metadata": {},
   "outputs": [],
   "source": [
    "df.actual_price = df.actual_price.astype('float64')"
   ]
  },
  {
   "cell_type": "code",
   "execution_count": 29,
   "metadata": {},
   "outputs": [
    {
     "name": "stdout",
     "output_type": "stream",
     "text": [
      "<class 'pandas.core.frame.DataFrame'>\n",
      "RangeIndex: 1465 entries, 0 to 1464\n",
      "Data columns (total 14 columns):\n",
      " #   Column               Non-Null Count  Dtype  \n",
      "---  ------               --------------  -----  \n",
      " 0   product_id           1465 non-null   object \n",
      " 1   product_name         1465 non-null   object \n",
      " 2   category             1465 non-null   object \n",
      " 3   discounted_price     1465 non-null   float64\n",
      " 4   actual_price         1465 non-null   float64\n",
      " 5   discount_percentage  1465 non-null   object \n",
      " 6   rating               1465 non-null   object \n",
      " 7   rating_count         1463 non-null   object \n",
      " 8   about_product        1465 non-null   object \n",
      " 9   user_id              1465 non-null   object \n",
      " 10  user_name            1465 non-null   object \n",
      " 11  review_id            1465 non-null   object \n",
      " 12  review_title         1465 non-null   object \n",
      " 13  review_content       1465 non-null   object \n",
      "dtypes: float64(2), object(12)\n",
      "memory usage: 160.4+ KB\n"
     ]
    }
   ],
   "source": [
    "df.info()"
   ]
  },
  {
   "cell_type": "code",
   "execution_count": 30,
   "metadata": {},
   "outputs": [],
   "source": [
    "# changing datatype for discount_percentage column as well\n",
    "\n",
    "df.discount_percentage = df.discount_percentage.str.replace('%','').astype('float64')"
   ]
  },
  {
   "cell_type": "code",
   "execution_count": 31,
   "metadata": {},
   "outputs": [
    {
     "data": {
      "text/plain": [
       "array([64., 43., 90., 53., 61., 85., 65., 23., 50., 33., 55., 63., 69.,\n",
       "       60., 13., 44., 38., 39., 46., 41., 70., 42., 72., 25., 51., 73.,\n",
       "        0., 80., 28., 67., 58., 35., 45., 62., 54., 27., 77., 56., 78.,\n",
       "       31., 86., 47., 37., 75., 32., 68., 66., 22., 57., 17., 52., 88.,\n",
       "       20., 59., 40., 26., 29., 83., 71., 15., 76., 48., 82., 36., 89.,\n",
       "       87., 24., 34., 11., 91.,  7., 19., 79., 21., 81., 18., 49., 30.,\n",
       "       84., 10.,  6., 14., 74.,  4.,  5., 16.,  8.,  2., 94., 12.,  3.,\n",
       "        9.])"
      ]
     },
     "execution_count": 31,
     "metadata": {},
     "output_type": "execute_result"
    }
   ],
   "source": [
    "# checking discount_percentage column\n",
    "df.discount_percentage.unique()"
   ]
  },
  {
   "cell_type": "code",
   "execution_count": 32,
   "metadata": {},
   "outputs": [],
   "source": [
    "# replacing discount_percentage with discount_percentage/100\n",
    "\n",
    "df.discount_percentage = df.discount_percentage/100"
   ]
  },
  {
   "cell_type": "code",
   "execution_count": 33,
   "metadata": {},
   "outputs": [
    {
     "data": {
      "text/plain": [
       "array([0.64, 0.43, 0.9 , 0.53, 0.61, 0.85, 0.65, 0.23, 0.5 , 0.33, 0.55,\n",
       "       0.63, 0.69, 0.6 , 0.13, 0.44, 0.38, 0.39, 0.46, 0.41, 0.7 , 0.42,\n",
       "       0.72, 0.25, 0.51, 0.73, 0.  , 0.8 , 0.28, 0.67, 0.58, 0.35, 0.45,\n",
       "       0.62, 0.54, 0.27, 0.77, 0.56, 0.78, 0.31, 0.86, 0.47, 0.37, 0.75,\n",
       "       0.32, 0.68, 0.66, 0.22, 0.57, 0.17, 0.52, 0.88, 0.2 , 0.59, 0.4 ,\n",
       "       0.26, 0.29, 0.83, 0.71, 0.15, 0.76, 0.48, 0.82, 0.36, 0.89, 0.87,\n",
       "       0.24, 0.34, 0.11, 0.91, 0.07, 0.19, 0.79, 0.21, 0.81, 0.18, 0.49,\n",
       "       0.3 , 0.84, 0.1 , 0.06, 0.14, 0.74, 0.04, 0.05, 0.16, 0.08, 0.02,\n",
       "       0.94, 0.12, 0.03, 0.09])"
      ]
     },
     "execution_count": 33,
     "metadata": {},
     "output_type": "execute_result"
    }
   ],
   "source": [
    "# checking discount_percentage column\n",
    "\n",
    "df.discount_percentage.unique()"
   ]
  },
  {
   "cell_type": "code",
   "execution_count": 34,
   "metadata": {},
   "outputs": [
    {
     "name": "stdout",
     "output_type": "stream",
     "text": [
      "<class 'pandas.core.frame.DataFrame'>\n",
      "RangeIndex: 1465 entries, 0 to 1464\n",
      "Data columns (total 14 columns):\n",
      " #   Column               Non-Null Count  Dtype  \n",
      "---  ------               --------------  -----  \n",
      " 0   product_id           1465 non-null   object \n",
      " 1   product_name         1465 non-null   object \n",
      " 2   category             1465 non-null   object \n",
      " 3   discounted_price     1465 non-null   float64\n",
      " 4   actual_price         1465 non-null   float64\n",
      " 5   discount_percentage  1465 non-null   float64\n",
      " 6   rating               1465 non-null   object \n",
      " 7   rating_count         1463 non-null   object \n",
      " 8   about_product        1465 non-null   object \n",
      " 9   user_id              1465 non-null   object \n",
      " 10  user_name            1465 non-null   object \n",
      " 11  review_id            1465 non-null   object \n",
      " 12  review_title         1465 non-null   object \n",
      " 13  review_content       1465 non-null   object \n",
      "dtypes: float64(3), object(11)\n",
      "memory usage: 160.4+ KB\n"
     ]
    }
   ],
   "source": [
    "# checking the info\n",
    "df.info()"
   ]
  },
  {
   "cell_type": "code",
   "execution_count": 35,
   "metadata": {},
   "outputs": [
    {
     "data": {
      "text/plain": [
       "4.1    244\n",
       "4.3    230\n",
       "4.2    228\n",
       "4.0    129\n",
       "4.4    123\n",
       "3.9    123\n",
       "3.8     86\n",
       "4.5     75\n",
       "4       52\n",
       "3.7     42\n",
       "3.6     35\n",
       "3.5     26\n",
       "4.6     17\n",
       "3.3     16\n",
       "3.4     10\n",
       "4.7      6\n",
       "3.1      4\n",
       "5.0      3\n",
       "4.8      3\n",
       "3.0      3\n",
       "3.2      2\n",
       "2.8      2\n",
       "2.9      1\n",
       "2.3      1\n",
       "|        1\n",
       "2.6      1\n",
       "2        1\n",
       "3        1\n",
       "Name: rating, dtype: int64"
      ]
     },
     "execution_count": 35,
     "metadata": {},
     "output_type": "execute_result"
    }
   ],
   "source": [
    "# analyzing rating column\n",
    "df.rating.value_counts()"
   ]
  },
  {
   "cell_type": "code",
   "execution_count": 36,
   "metadata": {},
   "outputs": [
    {
     "data": {
      "text/html": [
       "<div>\n",
       "<style scoped>\n",
       "    .dataframe tbody tr th:only-of-type {\n",
       "        vertical-align: middle;\n",
       "    }\n",
       "\n",
       "    .dataframe tbody tr th {\n",
       "        vertical-align: top;\n",
       "    }\n",
       "\n",
       "    .dataframe thead th {\n",
       "        text-align: right;\n",
       "    }\n",
       "</style>\n",
       "<table border=\"1\" class=\"dataframe\">\n",
       "  <thead>\n",
       "    <tr style=\"text-align: right;\">\n",
       "      <th></th>\n",
       "      <th>product_id</th>\n",
       "      <th>product_name</th>\n",
       "      <th>category</th>\n",
       "      <th>discounted_price</th>\n",
       "      <th>actual_price</th>\n",
       "      <th>discount_percentage</th>\n",
       "      <th>rating</th>\n",
       "      <th>rating_count</th>\n",
       "      <th>about_product</th>\n",
       "      <th>user_id</th>\n",
       "      <th>user_name</th>\n",
       "      <th>review_id</th>\n",
       "      <th>review_title</th>\n",
       "      <th>review_content</th>\n",
       "    </tr>\n",
       "  </thead>\n",
       "  <tbody>\n",
       "    <tr>\n",
       "      <th>1279</th>\n",
       "      <td>B08L12N5H1</td>\n",
       "      <td>Eureka Forbes car Vac 100 Watts Powerful Sucti...</td>\n",
       "      <td>Home&amp;Kitchen|Kitchen&amp;HomeAppliances|Vacuum,Cle...</td>\n",
       "      <td>2099.0</td>\n",
       "      <td>2499.0</td>\n",
       "      <td>0.16</td>\n",
       "      <td>|</td>\n",
       "      <td>992</td>\n",
       "      <td>No Installation is provided for this product|1...</td>\n",
       "      <td>AGTDSNT2FKVYEPDPXAA673AIS44A,AER2XFSWNN4LAUCJ5...</td>\n",
       "      <td>Divya,Dr Nefario,Deekshith,Preeti,Prasanth R,P...</td>\n",
       "      <td>R2KKTKM4M9RDVJ,R1O692MZOBTE79,R2WRSEWL56SOS4,R...</td>\n",
       "      <td>Decent product,doesn't pick up sand,Ok ok,Must...</td>\n",
       "      <td>Does the job well,doesn't work on sand. though...</td>\n",
       "    </tr>\n",
       "  </tbody>\n",
       "</table>\n",
       "</div>"
      ],
      "text/plain": [
       "      product_id                                       product_name  \\\n",
       "1279  B08L12N5H1  Eureka Forbes car Vac 100 Watts Powerful Sucti...   \n",
       "\n",
       "                                               category  discounted_price  \\\n",
       "1279  Home&Kitchen|Kitchen&HomeAppliances|Vacuum,Cle...            2099.0   \n",
       "\n",
       "      actual_price  discount_percentage rating rating_count  \\\n",
       "1279        2499.0                 0.16      |          992   \n",
       "\n",
       "                                          about_product  \\\n",
       "1279  No Installation is provided for this product|1...   \n",
       "\n",
       "                                                user_id  \\\n",
       "1279  AGTDSNT2FKVYEPDPXAA673AIS44A,AER2XFSWNN4LAUCJ5...   \n",
       "\n",
       "                                              user_name  \\\n",
       "1279  Divya,Dr Nefario,Deekshith,Preeti,Prasanth R,P...   \n",
       "\n",
       "                                              review_id  \\\n",
       "1279  R2KKTKM4M9RDVJ,R1O692MZOBTE79,R2WRSEWL56SOS4,R...   \n",
       "\n",
       "                                           review_title  \\\n",
       "1279  Decent product,doesn't pick up sand,Ok ok,Must...   \n",
       "\n",
       "                                         review_content  \n",
       "1279  Does the job well,doesn't work on sand. though...  "
      ]
     },
     "execution_count": 36,
     "metadata": {},
     "output_type": "execute_result"
    }
   ],
   "source": [
    "# checking the strange row with rating = |\n",
    "df.query('rating == \"|\"')"
   ]
  },
  {
   "cell_type": "code",
   "execution_count": 37,
   "metadata": {},
   "outputs": [],
   "source": [
    "# I checked on amazon and this product has a rating of 3.9, so I am going to replace it.\n",
    "\n",
    "df.rating = df.rating.str.replace('|','3.9').astype('float64')"
   ]
  },
  {
   "cell_type": "code",
   "execution_count": 38,
   "metadata": {},
   "outputs": [
    {
     "data": {
      "text/plain": [
       "4.1    244\n",
       "4.3    230\n",
       "4.2    228\n",
       "4.0    181\n",
       "3.9    124\n",
       "4.4    123\n",
       "3.8     86\n",
       "4.5     75\n",
       "3.7     42\n",
       "3.6     35\n",
       "3.5     26\n",
       "4.6     17\n",
       "3.3     16\n",
       "3.4     10\n",
       "4.7      6\n",
       "3.1      4\n",
       "3.0      4\n",
       "4.8      3\n",
       "5.0      3\n",
       "2.8      2\n",
       "3.2      2\n",
       "2.3      1\n",
       "2.9      1\n",
       "2.6      1\n",
       "2.0      1\n",
       "Name: rating, dtype: int64"
      ]
     },
     "execution_count": 38,
     "metadata": {},
     "output_type": "execute_result"
    }
   ],
   "source": [
    "# checking the rating column again\n",
    "df.rating.value_counts()"
   ]
  },
  {
   "cell_type": "code",
   "execution_count": 39,
   "metadata": {},
   "outputs": [
    {
     "name": "stdout",
     "output_type": "stream",
     "text": [
      "<class 'pandas.core.frame.DataFrame'>\n",
      "RangeIndex: 1465 entries, 0 to 1464\n",
      "Data columns (total 14 columns):\n",
      " #   Column               Non-Null Count  Dtype  \n",
      "---  ------               --------------  -----  \n",
      " 0   product_id           1465 non-null   object \n",
      " 1   product_name         1465 non-null   object \n",
      " 2   category             1465 non-null   object \n",
      " 3   discounted_price     1465 non-null   float64\n",
      " 4   actual_price         1465 non-null   float64\n",
      " 5   discount_percentage  1465 non-null   float64\n",
      " 6   rating               1465 non-null   float64\n",
      " 7   rating_count         1463 non-null   object \n",
      " 8   about_product        1465 non-null   object \n",
      " 9   user_id              1465 non-null   object \n",
      " 10  user_name            1465 non-null   object \n",
      " 11  review_id            1465 non-null   object \n",
      " 12  review_title         1465 non-null   object \n",
      " 13  review_content       1465 non-null   object \n",
      "dtypes: float64(4), object(10)\n",
      "memory usage: 160.4+ KB\n"
     ]
    }
   ],
   "source": [
    "# checking the info again\n",
    "df.info()"
   ]
  },
  {
   "cell_type": "code",
   "execution_count": 40,
   "metadata": {},
   "outputs": [
    {
     "data": {
      "text/plain": [
       "array(['24,269', '43,994', '7,928', ..., '468', '8,031', '6,987'],\n",
       "      dtype=object)"
      ]
     },
     "execution_count": 40,
     "metadata": {},
     "output_type": "execute_result"
    }
   ],
   "source": [
    "# analyzing rating_count column\n",
    "df.rating_count.unique()"
   ]
  },
  {
   "cell_type": "code",
   "execution_count": 41,
   "metadata": {},
   "outputs": [],
   "source": [
    "# replacing comma with space and changing datatype for rating_count column\n",
    "df.rating_count= df.rating_count.str.replace(',','').astype('float64')"
   ]
  },
  {
   "cell_type": "code",
   "execution_count": 42,
   "metadata": {},
   "outputs": [
    {
     "data": {
      "text/plain": [
       "array([24269., 43994.,  7928., ...,   468.,  8031.,  6987.])"
      ]
     },
     "execution_count": 42,
     "metadata": {},
     "output_type": "execute_result"
    }
   ],
   "source": [
    "# checking rating_count column\n",
    "df.rating_count.unique()"
   ]
  },
  {
   "cell_type": "code",
   "execution_count": 43,
   "metadata": {},
   "outputs": [
    {
     "name": "stdout",
     "output_type": "stream",
     "text": [
      "<class 'pandas.core.frame.DataFrame'>\n",
      "RangeIndex: 1465 entries, 0 to 1464\n",
      "Data columns (total 14 columns):\n",
      " #   Column               Non-Null Count  Dtype  \n",
      "---  ------               --------------  -----  \n",
      " 0   product_id           1465 non-null   object \n",
      " 1   product_name         1465 non-null   object \n",
      " 2   category             1465 non-null   object \n",
      " 3   discounted_price     1465 non-null   float64\n",
      " 4   actual_price         1465 non-null   float64\n",
      " 5   discount_percentage  1465 non-null   float64\n",
      " 6   rating               1465 non-null   float64\n",
      " 7   rating_count         1463 non-null   float64\n",
      " 8   about_product        1465 non-null   object \n",
      " 9   user_id              1465 non-null   object \n",
      " 10  user_name            1465 non-null   object \n",
      " 11  review_id            1465 non-null   object \n",
      " 12  review_title         1465 non-null   object \n",
      " 13  review_content       1465 non-null   object \n",
      "dtypes: float64(5), object(9)\n",
      "memory usage: 160.4+ KB\n"
     ]
    }
   ],
   "source": [
    "# checking info again\n",
    "df.info()"
   ]
  },
  {
   "cell_type": "code",
   "execution_count": 44,
   "metadata": {},
   "outputs": [
    {
     "data": {
      "text/html": [
       "<div>\n",
       "<style scoped>\n",
       "    .dataframe tbody tr th:only-of-type {\n",
       "        vertical-align: middle;\n",
       "    }\n",
       "\n",
       "    .dataframe tbody tr th {\n",
       "        vertical-align: top;\n",
       "    }\n",
       "\n",
       "    .dataframe thead th {\n",
       "        text-align: right;\n",
       "    }\n",
       "</style>\n",
       "<table border=\"1\" class=\"dataframe\">\n",
       "  <thead>\n",
       "    <tr style=\"text-align: right;\">\n",
       "      <th></th>\n",
       "      <th>discounted_price</th>\n",
       "      <th>actual_price</th>\n",
       "      <th>discount_percentage</th>\n",
       "      <th>rating</th>\n",
       "      <th>rating_count</th>\n",
       "    </tr>\n",
       "  </thead>\n",
       "  <tbody>\n",
       "    <tr>\n",
       "      <th>count</th>\n",
       "      <td>1465.000000</td>\n",
       "      <td>1465.000000</td>\n",
       "      <td>1465.000000</td>\n",
       "      <td>1465.000000</td>\n",
       "      <td>1463.000000</td>\n",
       "    </tr>\n",
       "    <tr>\n",
       "      <th>mean</th>\n",
       "      <td>3125.310874</td>\n",
       "      <td>5444.990635</td>\n",
       "      <td>0.476915</td>\n",
       "      <td>4.096451</td>\n",
       "      <td>18295.541353</td>\n",
       "    </tr>\n",
       "    <tr>\n",
       "      <th>std</th>\n",
       "      <td>6944.304394</td>\n",
       "      <td>10874.826864</td>\n",
       "      <td>0.216359</td>\n",
       "      <td>0.291620</td>\n",
       "      <td>42753.864952</td>\n",
       "    </tr>\n",
       "    <tr>\n",
       "      <th>min</th>\n",
       "      <td>39.000000</td>\n",
       "      <td>39.000000</td>\n",
       "      <td>0.000000</td>\n",
       "      <td>2.000000</td>\n",
       "      <td>2.000000</td>\n",
       "    </tr>\n",
       "    <tr>\n",
       "      <th>25%</th>\n",
       "      <td>325.000000</td>\n",
       "      <td>800.000000</td>\n",
       "      <td>0.320000</td>\n",
       "      <td>4.000000</td>\n",
       "      <td>1186.000000</td>\n",
       "    </tr>\n",
       "    <tr>\n",
       "      <th>50%</th>\n",
       "      <td>799.000000</td>\n",
       "      <td>1650.000000</td>\n",
       "      <td>0.500000</td>\n",
       "      <td>4.100000</td>\n",
       "      <td>5179.000000</td>\n",
       "    </tr>\n",
       "    <tr>\n",
       "      <th>75%</th>\n",
       "      <td>1999.000000</td>\n",
       "      <td>4295.000000</td>\n",
       "      <td>0.630000</td>\n",
       "      <td>4.300000</td>\n",
       "      <td>17336.500000</td>\n",
       "    </tr>\n",
       "    <tr>\n",
       "      <th>max</th>\n",
       "      <td>77990.000000</td>\n",
       "      <td>139900.000000</td>\n",
       "      <td>0.940000</td>\n",
       "      <td>5.000000</td>\n",
       "      <td>426973.000000</td>\n",
       "    </tr>\n",
       "  </tbody>\n",
       "</table>\n",
       "</div>"
      ],
      "text/plain": [
       "       discounted_price   actual_price  discount_percentage       rating  \\\n",
       "count       1465.000000    1465.000000          1465.000000  1465.000000   \n",
       "mean        3125.310874    5444.990635             0.476915     4.096451   \n",
       "std         6944.304394   10874.826864             0.216359     0.291620   \n",
       "min           39.000000      39.000000             0.000000     2.000000   \n",
       "25%          325.000000     800.000000             0.320000     4.000000   \n",
       "50%          799.000000    1650.000000             0.500000     4.100000   \n",
       "75%         1999.000000    4295.000000             0.630000     4.300000   \n",
       "max        77990.000000  139900.000000             0.940000     5.000000   \n",
       "\n",
       "        rating_count  \n",
       "count    1463.000000  \n",
       "mean    18295.541353  \n",
       "std     42753.864952  \n",
       "min         2.000000  \n",
       "25%      1186.000000  \n",
       "50%      5179.000000  \n",
       "75%     17336.500000  \n",
       "max    426973.000000  "
      ]
     },
     "execution_count": 44,
     "metadata": {},
     "output_type": "execute_result"
    }
   ],
   "source": [
    "# chekcing the descriptive statistics of the data\n",
    "df.describe()"
   ]
  },
  {
   "cell_type": "code",
   "execution_count": 45,
   "metadata": {},
   "outputs": [
    {
     "data": {
      "text/plain": [
       "rating_count           2\n",
       "review_content         0\n",
       "review_title           0\n",
       "review_id              0\n",
       "user_name              0\n",
       "user_id                0\n",
       "about_product          0\n",
       "rating                 0\n",
       "discount_percentage    0\n",
       "actual_price           0\n",
       "discounted_price       0\n",
       "category               0\n",
       "product_name           0\n",
       "product_id             0\n",
       "dtype: int64"
      ]
     },
     "execution_count": 45,
     "metadata": {},
     "output_type": "execute_result"
    }
   ],
   "source": [
    "# Dealing with missing values\n",
    "df.isnull().sum().sort_values(ascending=False)"
   ]
  },
  {
   "cell_type": "code",
   "execution_count": 46,
   "metadata": {},
   "outputs": [
    {
     "data": {
      "text/html": [
       "<div>\n",
       "<style scoped>\n",
       "    .dataframe tbody tr th:only-of-type {\n",
       "        vertical-align: middle;\n",
       "    }\n",
       "\n",
       "    .dataframe tbody tr th {\n",
       "        vertical-align: top;\n",
       "    }\n",
       "\n",
       "    .dataframe thead th {\n",
       "        text-align: right;\n",
       "    }\n",
       "</style>\n",
       "<table border=\"1\" class=\"dataframe\">\n",
       "  <thead>\n",
       "    <tr style=\"text-align: right;\">\n",
       "      <th></th>\n",
       "      <th>product_id</th>\n",
       "      <th>product_name</th>\n",
       "      <th>category</th>\n",
       "      <th>discounted_price</th>\n",
       "      <th>actual_price</th>\n",
       "      <th>discount_percentage</th>\n",
       "      <th>rating</th>\n",
       "      <th>rating_count</th>\n",
       "      <th>about_product</th>\n",
       "      <th>user_id</th>\n",
       "      <th>user_name</th>\n",
       "      <th>review_id</th>\n",
       "      <th>review_title</th>\n",
       "      <th>review_content</th>\n",
       "    </tr>\n",
       "  </thead>\n",
       "  <tbody>\n",
       "    <tr>\n",
       "      <th>282</th>\n",
       "      <td>B0B94JPY2N</td>\n",
       "      <td>Amazon Brand - Solimo 65W Fast Charging Braide...</td>\n",
       "      <td>Computers&amp;Accessories|Accessories&amp;Peripherals|...</td>\n",
       "      <td>199.0</td>\n",
       "      <td>999.0</td>\n",
       "      <td>0.80</td>\n",
       "      <td>3.0</td>\n",
       "      <td>NaN</td>\n",
       "      <td>USB C to C Cable: This cable has type C connec...</td>\n",
       "      <td>AE7CFHY23VAJT2FI4NZKKP6GS2UQ</td>\n",
       "      <td>Pranav</td>\n",
       "      <td>RUB7U91HVZ30</td>\n",
       "      <td>The cable works but is not 65W as advertised</td>\n",
       "      <td>I have a pd supported car charger and I bought...</td>\n",
       "    </tr>\n",
       "    <tr>\n",
       "      <th>324</th>\n",
       "      <td>B0BQRJ3C47</td>\n",
       "      <td>REDTECH USB-C to Lightning Cable 3.3FT, [Apple...</td>\n",
       "      <td>Computers&amp;Accessories|Accessories&amp;Peripherals|...</td>\n",
       "      <td>249.0</td>\n",
       "      <td>999.0</td>\n",
       "      <td>0.75</td>\n",
       "      <td>5.0</td>\n",
       "      <td>NaN</td>\n",
       "      <td>💎[The Fastest Charge] - This iPhone USB C cabl...</td>\n",
       "      <td>AGJC5O5H5BBXWUV7WRIEIOOR3TVQ</td>\n",
       "      <td>Abdul Gafur</td>\n",
       "      <td>RQXD5SAMMPC6L</td>\n",
       "      <td>Awesome Product</td>\n",
       "      <td>Quick delivery.Awesome ProductPacking was good...</td>\n",
       "    </tr>\n",
       "  </tbody>\n",
       "</table>\n",
       "</div>"
      ],
      "text/plain": [
       "     product_id                                       product_name  \\\n",
       "282  B0B94JPY2N  Amazon Brand - Solimo 65W Fast Charging Braide...   \n",
       "324  B0BQRJ3C47  REDTECH USB-C to Lightning Cable 3.3FT, [Apple...   \n",
       "\n",
       "                                              category  discounted_price  \\\n",
       "282  Computers&Accessories|Accessories&Peripherals|...             199.0   \n",
       "324  Computers&Accessories|Accessories&Peripherals|...             249.0   \n",
       "\n",
       "     actual_price  discount_percentage  rating  rating_count  \\\n",
       "282         999.0                 0.80     3.0           NaN   \n",
       "324         999.0                 0.75     5.0           NaN   \n",
       "\n",
       "                                         about_product  \\\n",
       "282  USB C to C Cable: This cable has type C connec...   \n",
       "324  💎[The Fastest Charge] - This iPhone USB C cabl...   \n",
       "\n",
       "                          user_id    user_name      review_id  \\\n",
       "282  AE7CFHY23VAJT2FI4NZKKP6GS2UQ       Pranav   RUB7U91HVZ30   \n",
       "324  AGJC5O5H5BBXWUV7WRIEIOOR3TVQ  Abdul Gafur  RQXD5SAMMPC6L   \n",
       "\n",
       "                                     review_title  \\\n",
       "282  The cable works but is not 65W as advertised   \n",
       "324                               Awesome Product   \n",
       "\n",
       "                                        review_content  \n",
       "282  I have a pd supported car charger and I bought...  \n",
       "324  Quick delivery.Awesome ProductPacking was good...  "
      ]
     },
     "execution_count": 46,
     "metadata": {},
     "output_type": "execute_result"
    }
   ],
   "source": [
    "# checking data with null values\n",
    "df[df.rating_count.isnull()]"
   ]
  },
  {
   "cell_type": "code",
   "execution_count": 47,
   "metadata": {},
   "outputs": [
    {
     "data": {
      "text/plain": [
       "5179.0"
      ]
     },
     "execution_count": 47,
     "metadata": {},
     "output_type": "execute_result"
    }
   ],
   "source": [
    "# finding median of rating_count column\n",
    "\n",
    "df.rating_count.median()"
   ]
  },
  {
   "cell_type": "code",
   "execution_count": 48,
   "metadata": {},
   "outputs": [],
   "source": [
    "# imputing missing values with median of the data\n",
    "\n",
    "df.rating_count = df.rating_count.fillna(value= df.rating_count.median())"
   ]
  },
  {
   "cell_type": "code",
   "execution_count": 49,
   "metadata": {},
   "outputs": [
    {
     "data": {
      "text/plain": [
       "review_content         0\n",
       "review_title           0\n",
       "review_id              0\n",
       "user_name              0\n",
       "user_id                0\n",
       "about_product          0\n",
       "rating_count           0\n",
       "rating                 0\n",
       "discount_percentage    0\n",
       "actual_price           0\n",
       "discounted_price       0\n",
       "category               0\n",
       "product_name           0\n",
       "product_id             0\n",
       "dtype: int64"
      ]
     },
     "execution_count": 49,
     "metadata": {},
     "output_type": "execute_result"
    }
   ],
   "source": [
    "# checking null values now\n",
    "df.isnull().sum().sort_values(ascending= False)"
   ]
  },
  {
   "cell_type": "markdown",
   "metadata": {},
   "source": [
    "#### We have cleaned the data from missing values"
   ]
  },
  {
   "cell_type": "code",
   "execution_count": 50,
   "metadata": {},
   "outputs": [
    {
     "data": {
      "text/plain": [
       "True"
      ]
     },
     "execution_count": 50,
     "metadata": {},
     "output_type": "execute_result"
    }
   ],
   "source": [
    "# checking for duplicates\n",
    "\n",
    "df.duplicated().any()"
   ]
  },
  {
   "cell_type": "code",
   "execution_count": 51,
   "metadata": {},
   "outputs": [
    {
     "data": {
      "text/html": [
       "<div>\n",
       "<style scoped>\n",
       "    .dataframe tbody tr th:only-of-type {\n",
       "        vertical-align: middle;\n",
       "    }\n",
       "\n",
       "    .dataframe tbody tr th {\n",
       "        vertical-align: top;\n",
       "    }\n",
       "\n",
       "    .dataframe thead th {\n",
       "        text-align: right;\n",
       "    }\n",
       "</style>\n",
       "<table border=\"1\" class=\"dataframe\">\n",
       "  <thead>\n",
       "    <tr style=\"text-align: right;\">\n",
       "      <th></th>\n",
       "      <th>product_id</th>\n",
       "      <th>product_name</th>\n",
       "      <th>category</th>\n",
       "      <th>discounted_price</th>\n",
       "      <th>actual_price</th>\n",
       "      <th>discount_percentage</th>\n",
       "      <th>rating</th>\n",
       "      <th>rating_count</th>\n",
       "      <th>about_product</th>\n",
       "      <th>user_id</th>\n",
       "      <th>user_name</th>\n",
       "      <th>review_id</th>\n",
       "      <th>review_title</th>\n",
       "      <th>review_content</th>\n",
       "    </tr>\n",
       "  </thead>\n",
       "  <tbody>\n",
       "    <tr>\n",
       "      <th>881</th>\n",
       "      <td>B002PD61Y4</td>\n",
       "      <td>D-Link DWA-131 300 Mbps Wireless Nano USB Adap...</td>\n",
       "      <td>Computers&amp;Accessories|NetworkingDevices|Networ...</td>\n",
       "      <td>507.0</td>\n",
       "      <td>1208.0</td>\n",
       "      <td>0.58</td>\n",
       "      <td>4.1</td>\n",
       "      <td>8131.0</td>\n",
       "      <td>Connects your computer to a high-speed wireles...</td>\n",
       "      <td>AGA2PZGWMQIRA46VYOTICFE7KCBA,AHI2QJ4CLTCQWACDI...</td>\n",
       "      <td>nilesh,EAGLE,Manoj KNS,Titus P.,Paras singla,a...</td>\n",
       "      <td>R2EJIN3N3L3XKI,R2JMJ8QNG66LV4,R3B46JNPC2T4E7,R...</td>\n",
       "      <td>good tool to use for,Brand is always good,Over...</td>\n",
       "      <td>good quality tool from d linkWiFi signal is go...</td>\n",
       "    </tr>\n",
       "    <tr>\n",
       "      <th>802</th>\n",
       "      <td>B00NH11PEY</td>\n",
       "      <td>AmazonBasics USB 2.0 - A-Male to A-Female Exte...</td>\n",
       "      <td>Computers&amp;Accessories|Accessories&amp;Peripherals|...</td>\n",
       "      <td>199.0</td>\n",
       "      <td>750.0</td>\n",
       "      <td>0.73</td>\n",
       "      <td>4.5</td>\n",
       "      <td>74976.0</td>\n",
       "      <td>One 9.8-foot-long (3 meters) USB 2.0 A-Male to...</td>\n",
       "      <td>AGBX233C7B7D7YZEL7ZLFWMQKFDQ,AFKSU4D3IE4KNDBVV...</td>\n",
       "      <td>Pravin Kumar,Maestrov,rag,Mukundha2good,Amazon...</td>\n",
       "      <td>R1C8MVU3EIX56Y,R10RUXC7JD5S4I,R1AFBZ5PYTHO1Z,R...</td>\n",
       "      <td>Nice,good,Paisa vassol,Sturdy and long.,Good f...</td>\n",
       "      <td>Sufficient length,excellent build quality ,goo...</td>\n",
       "    </tr>\n",
       "    <tr>\n",
       "      <th>1019</th>\n",
       "      <td>B0141EZMAI</td>\n",
       "      <td>Gizga Essentials USB WiFi Adapter for PC, 150 ...</td>\n",
       "      <td>Computers&amp;Accessories|NetworkingDevices|Networ...</td>\n",
       "      <td>269.0</td>\n",
       "      <td>800.0</td>\n",
       "      <td>0.66</td>\n",
       "      <td>3.6</td>\n",
       "      <td>10134.0</td>\n",
       "      <td>USB WiFi Adapter: Fast wireless transmission a...</td>\n",
       "      <td>AGMJ6TDLOVZIR5ZU65TLJFSLG2BQ,AGPK7U5SHXBYBXEWB...</td>\n",
       "      <td>SQL,ARUN KUMAR,veer,Ravi shankar,Shivam Kumar,...</td>\n",
       "      <td>R3AZDEK3MQA3RA,RXF3HCCBWV0VB,R6CVYFDUXBS36,R1Q...</td>\n",
       "      <td>Will not work with new system,Veri good,Ok pro...</td>\n",
       "      <td>Was working fine with window 10 old computer b...</td>\n",
       "    </tr>\n",
       "    <tr>\n",
       "      <th>974</th>\n",
       "      <td>B01GGKYKQM</td>\n",
       "      <td>Amazon Basics USB Type-C to USB-A 2.0 Male Fas...</td>\n",
       "      <td>Computers&amp;Accessories|Accessories&amp;Peripherals|...</td>\n",
       "      <td>219.0</td>\n",
       "      <td>700.0</td>\n",
       "      <td>0.69</td>\n",
       "      <td>4.3</td>\n",
       "      <td>20053.0</td>\n",
       "      <td>Connect USB Type-C enabled devices (MacBook, C...</td>\n",
       "      <td>AHVZCQP5SYIVGZJK4LRP55ZXWETA,AF6YDBL3KYIK3LBKK...</td>\n",
       "      <td>Hremant,Anjaneyulu,Madhav,NOTTADRIS,Deepak,P,M...</td>\n",
       "      <td>R1BC08IFG4REKS,R1FJKIHIO54SOW,R3JR48W2CI480,R3...</td>\n",
       "      <td>You can trust on this one,The best usb cable,W...</td>\n",
       "      <td>Previously bought amazon basic USB type A cabl...</td>\n",
       "    </tr>\n",
       "    <tr>\n",
       "      <th>943</th>\n",
       "      <td>B01GGKZ0V6</td>\n",
       "      <td>AmazonBasics USB Type-C to USB Type-C 2.0 Cabl...</td>\n",
       "      <td>Computers&amp;Accessories|Accessories&amp;Peripherals|...</td>\n",
       "      <td>329.0</td>\n",
       "      <td>845.0</td>\n",
       "      <td>0.61</td>\n",
       "      <td>4.2</td>\n",
       "      <td>29746.0</td>\n",
       "      <td>Connect Usb Type-C Enabled Devices (Macbook, C...</td>\n",
       "      <td>AEITVIFC7WZAEQDIVWPB4KUGKLRQ,AHQVFZCGAMMHEBBOY...</td>\n",
       "      <td>harpreet,Y Kiran Korneli Reddy,Kadir,SP,Mr Sab...</td>\n",
       "      <td>R37S13YALMRPGK,R2OU2YTGFEMJHE,R25SDG11W8EAU9,R...</td>\n",
       "      <td>Its ok product not too good not bad,Cheap and ...</td>\n",
       "      <td>Not too good not too bad,If you have the trust...</td>\n",
       "    </tr>\n",
       "    <tr>\n",
       "      <th>...</th>\n",
       "      <td>...</td>\n",
       "      <td>...</td>\n",
       "      <td>...</td>\n",
       "      <td>...</td>\n",
       "      <td>...</td>\n",
       "      <td>...</td>\n",
       "      <td>...</td>\n",
       "      <td>...</td>\n",
       "      <td>...</td>\n",
       "      <td>...</td>\n",
       "      <td>...</td>\n",
       "      <td>...</td>\n",
       "      <td>...</td>\n",
       "      <td>...</td>\n",
       "    </tr>\n",
       "    <tr>\n",
       "      <th>957</th>\n",
       "      <td>B0B5ZF3NRK</td>\n",
       "      <td>CEDO 65W OnePlus Dash Warp Charge Cable, USB A...</td>\n",
       "      <td>Computers&amp;Accessories|Accessories&amp;Peripherals|...</td>\n",
       "      <td>349.0</td>\n",
       "      <td>599.0</td>\n",
       "      <td>0.42</td>\n",
       "      <td>4.1</td>\n",
       "      <td>210.0</td>\n",
       "      <td>FAST AND STABLE CHARGING: Flexible USB type c ...</td>\n",
       "      <td>AGE6O2NLNA3NUGORPU4SDK2S23QQ,AEXZDEFVFQ3LW6DKH...</td>\n",
       "      <td>Satyanarayana,mohd irfan,Pankaj,Shirish Shivar...</td>\n",
       "      <td>R27HJ954EMEOQK,R2EPGPZGPWXR4I,R1KUXERHI948E7,R...</td>\n",
       "      <td>Good.,Good product,Ultimate product,Good Produ...</td>\n",
       "      <td>Working well and fast Charing as claimed. Pice...</td>\n",
       "    </tr>\n",
       "    <tr>\n",
       "      <th>1017</th>\n",
       "      <td>B0B9BD2YL4</td>\n",
       "      <td>KINGONE Wireless Charging Pencil (2nd Generati...</td>\n",
       "      <td>Electronics|Mobiles&amp;Accessories|MobileAccessor...</td>\n",
       "      <td>2599.0</td>\n",
       "      <td>6999.0</td>\n",
       "      <td>0.63</td>\n",
       "      <td>4.5</td>\n",
       "      <td>1526.0</td>\n",
       "      <td>【2022 latest iPad Magnetic Charging】 The lates...</td>\n",
       "      <td>AEAX7BRPDS3NSYCZQBQDL5DGZDVA,AFI76LT4UP2L3SFJM...</td>\n",
       "      <td>Ak,Jitesh,anil,Umpo,G'DAS ENTERPRISES,Neetu,Va...</td>\n",
       "      <td>R1HOV97NOJFX4W,R3BIRU7WH404ND,RAU26U2KP1OQH,R1...</td>\n",
       "      <td>Quite Good,good pencil,Value for money,Brillia...</td>\n",
       "      <td>After 10 days of use bhaut acha chl rha ha and...</td>\n",
       "    </tr>\n",
       "    <tr>\n",
       "      <th>1007</th>\n",
       "      <td>B0B9BXKBC7</td>\n",
       "      <td>WeCool S5 Long Selfie Stick, with Large Reinfo...</td>\n",
       "      <td>Electronics|Mobiles&amp;Accessories|MobileAccessor...</td>\n",
       "      <td>1799.0</td>\n",
       "      <td>3999.0</td>\n",
       "      <td>0.55</td>\n",
       "      <td>4.6</td>\n",
       "      <td>245.0</td>\n",
       "      <td>64\" Tall Cell Phone Tripods with 7 section adj...</td>\n",
       "      <td>AFPYH3UF3GB4RNX3MX46AXFM2FTQ,AGWEQHJSUA4YCG44R...</td>\n",
       "      <td>Sujili v,Paras Jain,Shailendra,supreeth achar,...</td>\n",
       "      <td>R2MI4KSWYUEMDR,R2MNYKDL2UII1M,R2C6TUBM6IVLB0,R...</td>\n",
       "      <td>Good,Good Product but Little expensive.,Happy ...</td>\n",
       "      <td>Good,Thoda sa kam stable hai, phone lagane ke ...</td>\n",
       "    </tr>\n",
       "    <tr>\n",
       "      <th>908</th>\n",
       "      <td>B0BFWGBX61</td>\n",
       "      <td>Ambrane Unbreakable 3A Fast Charging Braided T...</td>\n",
       "      <td>Computers&amp;Accessories|Accessories&amp;Peripherals|...</td>\n",
       "      <td>199.0</td>\n",
       "      <td>349.0</td>\n",
       "      <td>0.43</td>\n",
       "      <td>4.1</td>\n",
       "      <td>314.0</td>\n",
       "      <td>Compatible with all Type C enabled devices, be...</td>\n",
       "      <td>AF36YUJUEUU3SA42PFAULM2F5RYA,AESE26BMILSD6E4AV...</td>\n",
       "      <td>Vipan Agnihotri,Hitender singh,Anuj Chauhan,Mu...</td>\n",
       "      <td>RQAF3Q7KCEGHP,R3CBLDFSRTKKYA,R3PZ3ENFIS7IJG,R2...</td>\n",
       "      <td>Good product,Strong and powerful,Useful produc...</td>\n",
       "      <td>quality is ok ok only,Well go for it good cabl...</td>\n",
       "    </tr>\n",
       "    <tr>\n",
       "      <th>1018</th>\n",
       "      <td>B0BMXMLSMM</td>\n",
       "      <td>Lapster 65W compatible for OnePlus Dash Warp C...</td>\n",
       "      <td>Computers&amp;Accessories|Accessories&amp;Peripherals|...</td>\n",
       "      <td>199.0</td>\n",
       "      <td>999.0</td>\n",
       "      <td>0.80</td>\n",
       "      <td>4.5</td>\n",
       "      <td>127.0</td>\n",
       "      <td>-1 meter type c to c cable fast charging cable...</td>\n",
       "      <td>AHFENRYJG4LPXDTUGEMG335VICSQ,AGSV37DJ5QTUYOXFJ...</td>\n",
       "      <td>Nadhiyarasan,Saurabh Aggarwal,Dibya,Sai Sriya,...</td>\n",
       "      <td>R14ZOPYFHOYYRQ,R1GQH74NUCJZZ7,R1BNWIYBRSI1Z6,R...</td>\n",
       "      <td>Super charger in lapster,Best among the rest,C...</td>\n",
       "      <td>Best quality,The product looks original-like a...</td>\n",
       "    </tr>\n",
       "  </tbody>\n",
       "</table>\n",
       "<p>65 rows × 14 columns</p>\n",
       "</div>"
      ],
      "text/plain": [
       "      product_id                                       product_name  \\\n",
       "881   B002PD61Y4  D-Link DWA-131 300 Mbps Wireless Nano USB Adap...   \n",
       "802   B00NH11PEY  AmazonBasics USB 2.0 - A-Male to A-Female Exte...   \n",
       "1019  B0141EZMAI  Gizga Essentials USB WiFi Adapter for PC, 150 ...   \n",
       "974   B01GGKYKQM  Amazon Basics USB Type-C to USB-A 2.0 Male Fas...   \n",
       "943   B01GGKZ0V6  AmazonBasics USB Type-C to USB Type-C 2.0 Cabl...   \n",
       "...          ...                                                ...   \n",
       "957   B0B5ZF3NRK  CEDO 65W OnePlus Dash Warp Charge Cable, USB A...   \n",
       "1017  B0B9BD2YL4  KINGONE Wireless Charging Pencil (2nd Generati...   \n",
       "1007  B0B9BXKBC7  WeCool S5 Long Selfie Stick, with Large Reinfo...   \n",
       "908   B0BFWGBX61  Ambrane Unbreakable 3A Fast Charging Braided T...   \n",
       "1018  B0BMXMLSMM  Lapster 65W compatible for OnePlus Dash Warp C...   \n",
       "\n",
       "                                               category  discounted_price  \\\n",
       "881   Computers&Accessories|NetworkingDevices|Networ...             507.0   \n",
       "802   Computers&Accessories|Accessories&Peripherals|...             199.0   \n",
       "1019  Computers&Accessories|NetworkingDevices|Networ...             269.0   \n",
       "974   Computers&Accessories|Accessories&Peripherals|...             219.0   \n",
       "943   Computers&Accessories|Accessories&Peripherals|...             329.0   \n",
       "...                                                 ...               ...   \n",
       "957   Computers&Accessories|Accessories&Peripherals|...             349.0   \n",
       "1017  Electronics|Mobiles&Accessories|MobileAccessor...            2599.0   \n",
       "1007  Electronics|Mobiles&Accessories|MobileAccessor...            1799.0   \n",
       "908   Computers&Accessories|Accessories&Peripherals|...             199.0   \n",
       "1018  Computers&Accessories|Accessories&Peripherals|...             199.0   \n",
       "\n",
       "      actual_price  discount_percentage  rating  rating_count  \\\n",
       "881         1208.0                 0.58     4.1        8131.0   \n",
       "802          750.0                 0.73     4.5       74976.0   \n",
       "1019         800.0                 0.66     3.6       10134.0   \n",
       "974          700.0                 0.69     4.3       20053.0   \n",
       "943          845.0                 0.61     4.2       29746.0   \n",
       "...            ...                  ...     ...           ...   \n",
       "957          599.0                 0.42     4.1         210.0   \n",
       "1017        6999.0                 0.63     4.5        1526.0   \n",
       "1007        3999.0                 0.55     4.6         245.0   \n",
       "908          349.0                 0.43     4.1         314.0   \n",
       "1018         999.0                 0.80     4.5         127.0   \n",
       "\n",
       "                                          about_product  \\\n",
       "881   Connects your computer to a high-speed wireles...   \n",
       "802   One 9.8-foot-long (3 meters) USB 2.0 A-Male to...   \n",
       "1019  USB WiFi Adapter: Fast wireless transmission a...   \n",
       "974   Connect USB Type-C enabled devices (MacBook, C...   \n",
       "943   Connect Usb Type-C Enabled Devices (Macbook, C...   \n",
       "...                                                 ...   \n",
       "957   FAST AND STABLE CHARGING: Flexible USB type c ...   \n",
       "1017  【2022 latest iPad Magnetic Charging】 The lates...   \n",
       "1007  64\" Tall Cell Phone Tripods with 7 section adj...   \n",
       "908   Compatible with all Type C enabled devices, be...   \n",
       "1018  -1 meter type c to c cable fast charging cable...   \n",
       "\n",
       "                                                user_id  \\\n",
       "881   AGA2PZGWMQIRA46VYOTICFE7KCBA,AHI2QJ4CLTCQWACDI...   \n",
       "802   AGBX233C7B7D7YZEL7ZLFWMQKFDQ,AFKSU4D3IE4KNDBVV...   \n",
       "1019  AGMJ6TDLOVZIR5ZU65TLJFSLG2BQ,AGPK7U5SHXBYBXEWB...   \n",
       "974   AHVZCQP5SYIVGZJK4LRP55ZXWETA,AF6YDBL3KYIK3LBKK...   \n",
       "943   AEITVIFC7WZAEQDIVWPB4KUGKLRQ,AHQVFZCGAMMHEBBOY...   \n",
       "...                                                 ...   \n",
       "957   AGE6O2NLNA3NUGORPU4SDK2S23QQ,AEXZDEFVFQ3LW6DKH...   \n",
       "1017  AEAX7BRPDS3NSYCZQBQDL5DGZDVA,AFI76LT4UP2L3SFJM...   \n",
       "1007  AFPYH3UF3GB4RNX3MX46AXFM2FTQ,AGWEQHJSUA4YCG44R...   \n",
       "908   AF36YUJUEUU3SA42PFAULM2F5RYA,AESE26BMILSD6E4AV...   \n",
       "1018  AHFENRYJG4LPXDTUGEMG335VICSQ,AGSV37DJ5QTUYOXFJ...   \n",
       "\n",
       "                                              user_name  \\\n",
       "881   nilesh,EAGLE,Manoj KNS,Titus P.,Paras singla,a...   \n",
       "802   Pravin Kumar,Maestrov,rag,Mukundha2good,Amazon...   \n",
       "1019  SQL,ARUN KUMAR,veer,Ravi shankar,Shivam Kumar,...   \n",
       "974   Hremant,Anjaneyulu,Madhav,NOTTADRIS,Deepak,P,M...   \n",
       "943   harpreet,Y Kiran Korneli Reddy,Kadir,SP,Mr Sab...   \n",
       "...                                                 ...   \n",
       "957   Satyanarayana,mohd irfan,Pankaj,Shirish Shivar...   \n",
       "1017  Ak,Jitesh,anil,Umpo,G'DAS ENTERPRISES,Neetu,Va...   \n",
       "1007  Sujili v,Paras Jain,Shailendra,supreeth achar,...   \n",
       "908   Vipan Agnihotri,Hitender singh,Anuj Chauhan,Mu...   \n",
       "1018  Nadhiyarasan,Saurabh Aggarwal,Dibya,Sai Sriya,...   \n",
       "\n",
       "                                              review_id  \\\n",
       "881   R2EJIN3N3L3XKI,R2JMJ8QNG66LV4,R3B46JNPC2T4E7,R...   \n",
       "802   R1C8MVU3EIX56Y,R10RUXC7JD5S4I,R1AFBZ5PYTHO1Z,R...   \n",
       "1019  R3AZDEK3MQA3RA,RXF3HCCBWV0VB,R6CVYFDUXBS36,R1Q...   \n",
       "974   R1BC08IFG4REKS,R1FJKIHIO54SOW,R3JR48W2CI480,R3...   \n",
       "943   R37S13YALMRPGK,R2OU2YTGFEMJHE,R25SDG11W8EAU9,R...   \n",
       "...                                                 ...   \n",
       "957   R27HJ954EMEOQK,R2EPGPZGPWXR4I,R1KUXERHI948E7,R...   \n",
       "1017  R1HOV97NOJFX4W,R3BIRU7WH404ND,RAU26U2KP1OQH,R1...   \n",
       "1007  R2MI4KSWYUEMDR,R2MNYKDL2UII1M,R2C6TUBM6IVLB0,R...   \n",
       "908   RQAF3Q7KCEGHP,R3CBLDFSRTKKYA,R3PZ3ENFIS7IJG,R2...   \n",
       "1018  R14ZOPYFHOYYRQ,R1GQH74NUCJZZ7,R1BNWIYBRSI1Z6,R...   \n",
       "\n",
       "                                           review_title  \\\n",
       "881   good tool to use for,Brand is always good,Over...   \n",
       "802   Nice,good,Paisa vassol,Sturdy and long.,Good f...   \n",
       "1019  Will not work with new system,Veri good,Ok pro...   \n",
       "974   You can trust on this one,The best usb cable,W...   \n",
       "943   Its ok product not too good not bad,Cheap and ...   \n",
       "...                                                 ...   \n",
       "957   Good.,Good product,Ultimate product,Good Produ...   \n",
       "1017  Quite Good,good pencil,Value for money,Brillia...   \n",
       "1007  Good,Good Product but Little expensive.,Happy ...   \n",
       "908   Good product,Strong and powerful,Useful produc...   \n",
       "1018  Super charger in lapster,Best among the rest,C...   \n",
       "\n",
       "                                         review_content  \n",
       "881   good quality tool from d linkWiFi signal is go...  \n",
       "802   Sufficient length,excellent build quality ,goo...  \n",
       "1019  Was working fine with window 10 old computer b...  \n",
       "974   Previously bought amazon basic USB type A cabl...  \n",
       "943   Not too good not too bad,If you have the trust...  \n",
       "...                                                 ...  \n",
       "957   Working well and fast Charing as claimed. Pice...  \n",
       "1017  After 10 days of use bhaut acha chl rha ha and...  \n",
       "1007  Good,Thoda sa kam stable hai, phone lagane ke ...  \n",
       "908   quality is ok ok only,Well go for it good cabl...  \n",
       "1018  Best quality,The product looks original-like a...  \n",
       "\n",
       "[65 rows x 14 columns]"
      ]
     },
     "execution_count": 51,
     "metadata": {},
     "output_type": "execute_result"
    }
   ],
   "source": [
    "duplicate = df[df.duplicated()]\n",
    "duplicate.sort_values(by= 'product_id',ascending=True)"
   ]
  },
  {
   "cell_type": "code",
   "execution_count": 52,
   "metadata": {},
   "outputs": [
    {
     "data": {
      "text/html": [
       "<div>\n",
       "<style scoped>\n",
       "    .dataframe tbody tr th:only-of-type {\n",
       "        vertical-align: middle;\n",
       "    }\n",
       "\n",
       "    .dataframe tbody tr th {\n",
       "        vertical-align: top;\n",
       "    }\n",
       "\n",
       "    .dataframe thead th {\n",
       "        text-align: right;\n",
       "    }\n",
       "</style>\n",
       "<table border=\"1\" class=\"dataframe\">\n",
       "  <thead>\n",
       "    <tr style=\"text-align: right;\">\n",
       "      <th></th>\n",
       "      <th>product_id</th>\n",
       "      <th>product_name</th>\n",
       "      <th>category</th>\n",
       "      <th>discounted_price</th>\n",
       "      <th>actual_price</th>\n",
       "      <th>discount_percentage</th>\n",
       "      <th>rating</th>\n",
       "      <th>rating_count</th>\n",
       "      <th>about_product</th>\n",
       "      <th>user_id</th>\n",
       "      <th>user_name</th>\n",
       "      <th>review_id</th>\n",
       "      <th>review_title</th>\n",
       "      <th>review_content</th>\n",
       "    </tr>\n",
       "  </thead>\n",
       "  <tbody>\n",
       "    <tr>\n",
       "      <th>46</th>\n",
       "      <td>B002PD61Y4</td>\n",
       "      <td>D-Link DWA-131 300 Mbps Wireless Nano USB Adap...</td>\n",
       "      <td>Computers&amp;Accessories|NetworkingDevices|Networ...</td>\n",
       "      <td>507.0</td>\n",
       "      <td>1208.0</td>\n",
       "      <td>0.58</td>\n",
       "      <td>4.1</td>\n",
       "      <td>8131.0</td>\n",
       "      <td>Connects your computer to a high-speed wireles...</td>\n",
       "      <td>AGA2PZGWMQIRA46VYOTICFE7KCBA,AHI2QJ4CLTCQWACDI...</td>\n",
       "      <td>nilesh,EAGLE,Manoj KNS,Titus P.,Paras singla,a...</td>\n",
       "      <td>R2EJIN3N3L3XKI,R2JMJ8QNG66LV4,R3B46JNPC2T4E7,R...</td>\n",
       "      <td>good tool to use for,Brand is always good,Over...</td>\n",
       "      <td>good quality tool from d linkWiFi signal is go...</td>\n",
       "    </tr>\n",
       "    <tr>\n",
       "      <th>881</th>\n",
       "      <td>B002PD61Y4</td>\n",
       "      <td>D-Link DWA-131 300 Mbps Wireless Nano USB Adap...</td>\n",
       "      <td>Computers&amp;Accessories|NetworkingDevices|Networ...</td>\n",
       "      <td>507.0</td>\n",
       "      <td>1208.0</td>\n",
       "      <td>0.58</td>\n",
       "      <td>4.1</td>\n",
       "      <td>8131.0</td>\n",
       "      <td>Connects your computer to a high-speed wireles...</td>\n",
       "      <td>AGA2PZGWMQIRA46VYOTICFE7KCBA,AHI2QJ4CLTCQWACDI...</td>\n",
       "      <td>nilesh,EAGLE,Manoj KNS,Titus P.,Paras singla,a...</td>\n",
       "      <td>R2EJIN3N3L3XKI,R2JMJ8QNG66LV4,R3B46JNPC2T4E7,R...</td>\n",
       "      <td>good tool to use for,Brand is always good,Over...</td>\n",
       "      <td>good quality tool from d linkWiFi signal is go...</td>\n",
       "    </tr>\n",
       "  </tbody>\n",
       "</table>\n",
       "</div>"
      ],
      "text/plain": [
       "     product_id                                       product_name  \\\n",
       "46   B002PD61Y4  D-Link DWA-131 300 Mbps Wireless Nano USB Adap...   \n",
       "881  B002PD61Y4  D-Link DWA-131 300 Mbps Wireless Nano USB Adap...   \n",
       "\n",
       "                                              category  discounted_price  \\\n",
       "46   Computers&Accessories|NetworkingDevices|Networ...             507.0   \n",
       "881  Computers&Accessories|NetworkingDevices|Networ...             507.0   \n",
       "\n",
       "     actual_price  discount_percentage  rating  rating_count  \\\n",
       "46         1208.0                 0.58     4.1        8131.0   \n",
       "881        1208.0                 0.58     4.1        8131.0   \n",
       "\n",
       "                                         about_product  \\\n",
       "46   Connects your computer to a high-speed wireles...   \n",
       "881  Connects your computer to a high-speed wireles...   \n",
       "\n",
       "                                               user_id  \\\n",
       "46   AGA2PZGWMQIRA46VYOTICFE7KCBA,AHI2QJ4CLTCQWACDI...   \n",
       "881  AGA2PZGWMQIRA46VYOTICFE7KCBA,AHI2QJ4CLTCQWACDI...   \n",
       "\n",
       "                                             user_name  \\\n",
       "46   nilesh,EAGLE,Manoj KNS,Titus P.,Paras singla,a...   \n",
       "881  nilesh,EAGLE,Manoj KNS,Titus P.,Paras singla,a...   \n",
       "\n",
       "                                             review_id  \\\n",
       "46   R2EJIN3N3L3XKI,R2JMJ8QNG66LV4,R3B46JNPC2T4E7,R...   \n",
       "881  R2EJIN3N3L3XKI,R2JMJ8QNG66LV4,R3B46JNPC2T4E7,R...   \n",
       "\n",
       "                                          review_title  \\\n",
       "46   good tool to use for,Brand is always good,Over...   \n",
       "881  good tool to use for,Brand is always good,Over...   \n",
       "\n",
       "                                        review_content  \n",
       "46   good quality tool from d linkWiFi signal is go...  \n",
       "881  good quality tool from d linkWiFi signal is go...  "
      ]
     },
     "execution_count": 52,
     "metadata": {},
     "output_type": "execute_result"
    }
   ],
   "source": [
    "# checking a particular product_id\n",
    "df[df.product_id=='B002PD61Y4']"
   ]
  },
  {
   "cell_type": "code",
   "execution_count": 53,
   "metadata": {},
   "outputs": [],
   "source": [
    "# dropping duplicate rows\n",
    "df.drop_duplicates(inplace=True)"
   ]
  },
  {
   "cell_type": "code",
   "execution_count": 54,
   "metadata": {},
   "outputs": [
    {
     "data": {
      "text/plain": [
       "(1400, 14)"
      ]
     },
     "execution_count": 54,
     "metadata": {},
     "output_type": "execute_result"
    }
   ],
   "source": [
    "# checking number of rows and columns\n",
    "df.shape"
   ]
  },
  {
   "cell_type": "code",
   "execution_count": 55,
   "metadata": {},
   "outputs": [
    {
     "data": {
      "text/plain": [
       "False"
      ]
     },
     "execution_count": 55,
     "metadata": {},
     "output_type": "execute_result"
    }
   ],
   "source": [
    "# checking for duplicates again\n",
    "df.duplicated().any()"
   ]
  },
  {
   "cell_type": "markdown",
   "metadata": {},
   "source": [
    "#### We are done with removing the duplicate values"
   ]
  },
  {
   "cell_type": "code",
   "execution_count": 56,
   "metadata": {},
   "outputs": [
    {
     "name": "stdout",
     "output_type": "stream",
     "text": [
      "category\n",
      "Car&Motorbike|CarAccessories|InteriorAccessories|AirPurifiers&Ionizers                                                    3.800000\n",
      "Computers&Accessories|Accessories&Peripherals|Adapters|USBtoUSBAdapters                                                   4.150000\n",
      "Computers&Accessories|Accessories&Peripherals|Audio&VideoAccessories|PCHeadsets                                           3.500000\n",
      "Computers&Accessories|Accessories&Peripherals|Audio&VideoAccessories|PCMicrophones                                        3.600000\n",
      "Computers&Accessories|Accessories&Peripherals|Audio&VideoAccessories|PCSpeakers                                           4.050000\n",
      "                                                                                                                            ...   \n",
      "OfficeProducts|OfficePaperProducts|Paper|Stationery|Pens,Pencils&WritingSupplies|Pens&Refills|GelInkRollerballPens        4.250000\n",
      "OfficeProducts|OfficePaperProducts|Paper|Stationery|Pens,Pencils&WritingSupplies|Pens&Refills|LiquidInkRollerballPens     4.150000\n",
      "OfficeProducts|OfficePaperProducts|Paper|Stationery|Pens,Pencils&WritingSupplies|Pens&Refills|RetractableBallpointPens    4.300000\n",
      "OfficeProducts|OfficePaperProducts|Paper|Stationery|Pens,Pencils&WritingSupplies|Pens&Refills|StickBallpointPens          4.133333\n",
      "Toys&Games|Arts&Crafts|Drawing&PaintingSupplies|ColouringPens&Markers                                                     4.300000\n",
      "Name: rating, Length: 211, dtype: float64\n"
     ]
    }
   ],
   "source": [
    "# calulating summary statistics\n",
    "\n",
    "mean_rating_by_category = df.groupby('category')['rating'].mean()\n",
    "print(mean_rating_by_category)"
   ]
  },
  {
   "cell_type": "code",
   "execution_count": 57,
   "metadata": {},
   "outputs": [
    {
     "data": {
      "text/plain": [
       "category\n",
       "Car&Motorbike|CarAccessories|InteriorAccessories|AirPurifiers&Ionizers                                                     3.8\n",
       "Computers&Accessories|Accessories&Peripherals|Adapters|USBtoUSBAdapters                                                    8.3\n",
       "Computers&Accessories|Accessories&Peripherals|Audio&VideoAccessories|PCHeadsets                                            3.5\n",
       "Computers&Accessories|Accessories&Peripherals|Audio&VideoAccessories|PCMicrophones                                         7.2\n",
       "Computers&Accessories|Accessories&Peripherals|Audio&VideoAccessories|PCSpeakers                                            8.1\n",
       "                                                                                                                          ... \n",
       "OfficeProducts|OfficePaperProducts|Paper|Stationery|Pens,Pencils&WritingSupplies|Pens&Refills|GelInkRollerballPens         8.5\n",
       "OfficeProducts|OfficePaperProducts|Paper|Stationery|Pens,Pencils&WritingSupplies|Pens&Refills|LiquidInkRollerballPens      8.3\n",
       "OfficeProducts|OfficePaperProducts|Paper|Stationery|Pens,Pencils&WritingSupplies|Pens&Refills|RetractableBallpointPens     8.6\n",
       "OfficeProducts|OfficePaperProducts|Paper|Stationery|Pens,Pencils&WritingSupplies|Pens&Refills|StickBallpointPens          12.4\n",
       "Toys&Games|Arts&Crafts|Drawing&PaintingSupplies|ColouringPens&Markers                                                      4.3\n",
       "Name: rating, Length: 211, dtype: float64"
      ]
     },
     "execution_count": 57,
     "metadata": {},
     "output_type": "execute_result"
    }
   ],
   "source": [
    "all_rating_by_category = df.groupby('category')['rating'].sum()\n",
    "all_rating_by_category"
   ]
  },
  {
   "cell_type": "code",
   "execution_count": 58,
   "metadata": {},
   "outputs": [
    {
     "name": "stdout",
     "output_type": "stream",
     "text": [
      "product_name                                        !!1000 Watt/2000-Watt Room Heater!! Fan Heater!!Pure White!!HN-2500!!Made in India!!  \\\n",
      "category                                                                                                                                   \n",
      "Car&Motorbike|CarAccessories|InteriorAccessorie...                                                NaN                                      \n",
      "Computers&Accessories|Accessories&Peripherals|A...                                                NaN                                      \n",
      "Computers&Accessories|Accessories&Peripherals|A...                                                NaN                                      \n",
      "Computers&Accessories|Accessories&Peripherals|A...                                                NaN                                      \n",
      "Computers&Accessories|Accessories&Peripherals|A...                                                NaN                                      \n",
      "...                                                                                               ...                                      \n",
      "OfficeProducts|OfficePaperProducts|Paper|Statio...                                                NaN                                      \n",
      "OfficeProducts|OfficePaperProducts|Paper|Statio...                                                NaN                                      \n",
      "OfficeProducts|OfficePaperProducts|Paper|Statio...                                                NaN                                      \n",
      "OfficeProducts|OfficePaperProducts|Paper|Statio...                                                NaN                                      \n",
      "Toys&Games|Arts&Crafts|Drawing&PaintingSupplies...                                                NaN                                      \n",
      "\n",
      "product_name                                        !!HANEUL!!1000 Watt/2000-Watt Room Heater!! Fan Heater!!Pure White!!HN-2500!!Made in India!!Thermoset!!  \\\n",
      "category                                                                                                                                                      \n",
      "Car&Motorbike|CarAccessories|InteriorAccessorie...                                                NaN                                                         \n",
      "Computers&Accessories|Accessories&Peripherals|A...                                                NaN                                                         \n",
      "Computers&Accessories|Accessories&Peripherals|A...                                                NaN                                                         \n",
      "Computers&Accessories|Accessories&Peripherals|A...                                                NaN                                                         \n",
      "Computers&Accessories|Accessories&Peripherals|A...                                                NaN                                                         \n",
      "...                                                                                               ...                                                         \n",
      "OfficeProducts|OfficePaperProducts|Paper|Statio...                                                NaN                                                         \n",
      "OfficeProducts|OfficePaperProducts|Paper|Statio...                                                NaN                                                         \n",
      "OfficeProducts|OfficePaperProducts|Paper|Statio...                                                NaN                                                         \n",
      "OfficeProducts|OfficePaperProducts|Paper|Statio...                                                NaN                                                         \n",
      "Toys&Games|Arts&Crafts|Drawing&PaintingSupplies...                                                NaN                                                         \n",
      "\n",
      "product_name                                        10WeRun Id-116 Bluetooth Smartwatch Wireless Fitness Band for Boys, Girls, Men, Women & Kids | Sports Gym Watch for All Smart Phones I Heart Rate and spo2 Monitor  \\\n",
      "category                                                                                                                                                                                                                 \n",
      "Car&Motorbike|CarAccessories|InteriorAccessorie...                                                NaN                                                                                                                    \n",
      "Computers&Accessories|Accessories&Peripherals|A...                                                NaN                                                                                                                    \n",
      "Computers&Accessories|Accessories&Peripherals|A...                                                NaN                                                                                                                    \n",
      "Computers&Accessories|Accessories&Peripherals|A...                                                NaN                                                                                                                    \n",
      "Computers&Accessories|Accessories&Peripherals|A...                                                NaN                                                                                                                    \n",
      "...                                                                                               ...                                                                                                                    \n",
      "OfficeProducts|OfficePaperProducts|Paper|Statio...                                                NaN                                                                                                                    \n",
      "OfficeProducts|OfficePaperProducts|Paper|Statio...                                                NaN                                                                                                                    \n",
      "OfficeProducts|OfficePaperProducts|Paper|Statio...                                                NaN                                                                                                                    \n",
      "OfficeProducts|OfficePaperProducts|Paper|Statio...                                                NaN                                                                                                                    \n",
      "Toys&Games|Arts&Crafts|Drawing&PaintingSupplies...                                                NaN                                                                                                                    \n",
      "\n",
      "product_name                                        10k 8k 4k HDMI Cable, Certified 48Gbps 1ms Ultra High Speed HDMI 2.1 Cable 4k 120Hz 144Hz 2k 165Hz 8k 60Hz Dynamic HDR ARC eARC DTS:X Compatible for Mac Gaming PC Soundbar TV Monitor Laptop PS5 4 Xbox  \\\n",
      "category                                                                                                                                                                                                                                                       \n",
      "Car&Motorbike|CarAccessories|InteriorAccessorie...                                                NaN                                                                                                                                                          \n",
      "Computers&Accessories|Accessories&Peripherals|A...                                                NaN                                                                                                                                                          \n",
      "Computers&Accessories|Accessories&Peripherals|A...                                                NaN                                                                                                                                                          \n",
      "Computers&Accessories|Accessories&Peripherals|A...                                                NaN                                                                                                                                                          \n",
      "Computers&Accessories|Accessories&Peripherals|A...                                                NaN                                                                                                                                                          \n",
      "...                                                                                               ...                                                                                                                                                          \n",
      "OfficeProducts|OfficePaperProducts|Paper|Statio...                                                NaN                                                                                                                                                          \n",
      "OfficeProducts|OfficePaperProducts|Paper|Statio...                                                NaN                                                                                                                                                          \n",
      "OfficeProducts|OfficePaperProducts|Paper|Statio...                                                NaN                                                                                                                                                          \n",
      "OfficeProducts|OfficePaperProducts|Paper|Statio...                                                NaN                                                                                                                                                          \n",
      "Toys&Games|Arts&Crafts|Drawing&PaintingSupplies...                                                NaN                                                                                                                                                          \n",
      "\n",
      "product_name                                        3M Post-it Sticky Note Cube, 200 Sheets (4 Colors x 50 Sheets) | 3\" x 3\" Size | For notes, reminders, study, school and organizing  \\\n",
      "category                                                                                                                                                                                 \n",
      "Car&Motorbike|CarAccessories|InteriorAccessorie...                                                NaN                                                                                    \n",
      "Computers&Accessories|Accessories&Peripherals|A...                                                NaN                                                                                    \n",
      "Computers&Accessories|Accessories&Peripherals|A...                                                NaN                                                                                    \n",
      "Computers&Accessories|Accessories&Peripherals|A...                                                NaN                                                                                    \n",
      "Computers&Accessories|Accessories&Peripherals|A...                                                NaN                                                                                    \n",
      "...                                                                                               ...                                                                                    \n",
      "OfficeProducts|OfficePaperProducts|Paper|Statio...                                                NaN                                                                                    \n",
      "OfficeProducts|OfficePaperProducts|Paper|Statio...                                                NaN                                                                                    \n",
      "OfficeProducts|OfficePaperProducts|Paper|Statio...                                                NaN                                                                                    \n",
      "OfficeProducts|OfficePaperProducts|Paper|Statio...                                                NaN                                                                                    \n",
      "Toys&Games|Arts&Crafts|Drawing&PaintingSupplies...                                                NaN                                                                                    \n",
      "\n",
      "product_name                                        3M Scotch Double Sided Heavy Duty Tape(1m holds 4.5Kgs) for indoor hanging applications (Photo frames, Mirrors, Key Holders, Car Interiors, Extension Boards, Wall decoration, etc)(L: 3m, W: 24mm)  \\\n",
      "category                                                                                                                                                                                                                                                  \n",
      "Car&Motorbike|CarAccessories|InteriorAccessorie...                                                NaN                                                                                                                                                     \n",
      "Computers&Accessories|Accessories&Peripherals|A...                                                NaN                                                                                                                                                     \n",
      "Computers&Accessories|Accessories&Peripherals|A...                                                NaN                                                                                                                                                     \n",
      "Computers&Accessories|Accessories&Peripherals|A...                                                NaN                                                                                                                                                     \n",
      "Computers&Accessories|Accessories&Peripherals|A...                                                NaN                                                                                                                                                     \n",
      "...                                                                                               ...                                                                                                                                                     \n",
      "OfficeProducts|OfficePaperProducts|Paper|Statio...                                                NaN                                                                                                                                                     \n",
      "OfficeProducts|OfficePaperProducts|Paper|Statio...                                                NaN                                                                                                                                                     \n",
      "OfficeProducts|OfficePaperProducts|Paper|Statio...                                                NaN                                                                                                                                                     \n",
      "OfficeProducts|OfficePaperProducts|Paper|Statio...                                                NaN                                                                                                                                                     \n",
      "Toys&Games|Arts&Crafts|Drawing&PaintingSupplies...                                                NaN                                                                                                                                                     \n",
      "\n",
      "product_name                                        4 in 1 Handheld Electric Vegetable Cutter Set,Wireless Food Processor Electric Food Chopper for Garlic Chili Pepper Onion Ginger Celery Meat with Brush  \\\n",
      "category                                                                                                                                                                                                      \n",
      "Car&Motorbike|CarAccessories|InteriorAccessorie...                                                NaN                                                                                                         \n",
      "Computers&Accessories|Accessories&Peripherals|A...                                                NaN                                                                                                         \n",
      "Computers&Accessories|Accessories&Peripherals|A...                                                NaN                                                                                                         \n",
      "Computers&Accessories|Accessories&Peripherals|A...                                                NaN                                                                                                         \n",
      "Computers&Accessories|Accessories&Peripherals|A...                                                NaN                                                                                                         \n",
      "...                                                                                               ...                                                                                                         \n",
      "OfficeProducts|OfficePaperProducts|Paper|Statio...                                                NaN                                                                                                         \n",
      "OfficeProducts|OfficePaperProducts|Paper|Statio...                                                NaN                                                                                                         \n",
      "OfficeProducts|OfficePaperProducts|Paper|Statio...                                                NaN                                                                                                         \n",
      "OfficeProducts|OfficePaperProducts|Paper|Statio...                                                NaN                                                                                                         \n",
      "Toys&Games|Arts&Crafts|Drawing&PaintingSupplies...                                                NaN                                                                                                         \n",
      "\n",
      "product_name                                        7SEVEN Compatible LG TV Remote Suitable for LG Non Magic Smart tv Remote Control (Mouse & Voice Non-Support) MR20GA Prime Video and Netflix Hotkeys  \\\n",
      "category                                                                                                                                                                                                  \n",
      "Car&Motorbike|CarAccessories|InteriorAccessorie...                                                NaN                                                                                                     \n",
      "Computers&Accessories|Accessories&Peripherals|A...                                                NaN                                                                                                     \n",
      "Computers&Accessories|Accessories&Peripherals|A...                                                NaN                                                                                                     \n",
      "Computers&Accessories|Accessories&Peripherals|A...                                                NaN                                                                                                     \n",
      "Computers&Accessories|Accessories&Peripherals|A...                                                NaN                                                                                                     \n",
      "...                                                                                               ...                                                                                                     \n",
      "OfficeProducts|OfficePaperProducts|Paper|Statio...                                                NaN                                                                                                     \n",
      "OfficeProducts|OfficePaperProducts|Paper|Statio...                                                NaN                                                                                                     \n",
      "OfficeProducts|OfficePaperProducts|Paper|Statio...                                                NaN                                                                                                     \n",
      "OfficeProducts|OfficePaperProducts|Paper|Statio...                                                NaN                                                                                                     \n",
      "Toys&Games|Arts&Crafts|Drawing&PaintingSupplies...                                                NaN                                                                                                     \n",
      "\n",
      "product_name                                        7SEVEN® Bluetooth Voice Command Remote for Xiaomi Redmi Mi Smart TV with Netflix & Prime Video Hot Keys XMRM-00A  \\\n",
      "category                                                                                                                                                               \n",
      "Car&Motorbike|CarAccessories|InteriorAccessorie...                                                NaN                                                                  \n",
      "Computers&Accessories|Accessories&Peripherals|A...                                                NaN                                                                  \n",
      "Computers&Accessories|Accessories&Peripherals|A...                                                NaN                                                                  \n",
      "Computers&Accessories|Accessories&Peripherals|A...                                                NaN                                                                  \n",
      "Computers&Accessories|Accessories&Peripherals|A...                                                NaN                                                                  \n",
      "...                                                                                               ...                                                                  \n",
      "OfficeProducts|OfficePaperProducts|Paper|Statio...                                                NaN                                                                  \n",
      "OfficeProducts|OfficePaperProducts|Paper|Statio...                                                NaN                                                                  \n",
      "OfficeProducts|OfficePaperProducts|Paper|Statio...                                                NaN                                                                  \n",
      "OfficeProducts|OfficePaperProducts|Paper|Statio...                                                NaN                                                                  \n",
      "Toys&Games|Arts&Crafts|Drawing&PaintingSupplies...                                                NaN                                                                  \n",
      "\n",
      "product_name                                        7SEVEN® Compatible Lg Smart Tv Remote Suitable for Any LG LED OLED LCD UHD Plasma Android Television and AKB75095303 replacement of Original Lg Tv Remote Control  \\\n",
      "category                                                                                                                                                                                                                \n",
      "Car&Motorbike|CarAccessories|InteriorAccessorie...                                                NaN                                                                                                                   \n",
      "Computers&Accessories|Accessories&Peripherals|A...                                                NaN                                                                                                                   \n",
      "Computers&Accessories|Accessories&Peripherals|A...                                                NaN                                                                                                                   \n",
      "Computers&Accessories|Accessories&Peripherals|A...                                                NaN                                                                                                                   \n",
      "Computers&Accessories|Accessories&Peripherals|A...                                                NaN                                                                                                                   \n",
      "...                                                                                               ...                                                                                                                   \n",
      "OfficeProducts|OfficePaperProducts|Paper|Statio...                                                NaN                                                                                                                   \n",
      "OfficeProducts|OfficePaperProducts|Paper|Statio...                                                NaN                                                                                                                   \n",
      "OfficeProducts|OfficePaperProducts|Paper|Statio...                                                NaN                                                                                                                   \n",
      "OfficeProducts|OfficePaperProducts|Paper|Statio...                                                NaN                                                                                                                   \n",
      "Toys&Games|Arts&Crafts|Drawing&PaintingSupplies...                                                NaN                                                                                                                   \n",
      "\n",
      "product_name                                        ...  \\\n",
      "category                                            ...   \n",
      "Car&Motorbike|CarAccessories|InteriorAccessorie...  ...   \n",
      "Computers&Accessories|Accessories&Peripherals|A...  ...   \n",
      "Computers&Accessories|Accessories&Peripherals|A...  ...   \n",
      "Computers&Accessories|Accessories&Peripherals|A...  ...   \n",
      "Computers&Accessories|Accessories&Peripherals|A...  ...   \n",
      "...                                                 ...   \n",
      "OfficeProducts|OfficePaperProducts|Paper|Statio...  ...   \n",
      "OfficeProducts|OfficePaperProducts|Paper|Statio...  ...   \n",
      "OfficeProducts|OfficePaperProducts|Paper|Statio...  ...   \n",
      "OfficeProducts|OfficePaperProducts|Paper|Statio...  ...   \n",
      "Toys&Games|Arts&Crafts|Drawing&PaintingSupplies...  ...   \n",
      "\n",
      "product_name                                        pTron Solero T351 3.5Amps Fast Charging Type-C to Type-C PD Data & Charging USB Cable, Made in India, 480Mbps Data Sync, Durable 1 Meter Long Cable for Type-C Smartphones, Tablets & Laptops (Black)  \\\n",
      "category                                                                                                                                                                                                                                                    \n",
      "Car&Motorbike|CarAccessories|InteriorAccessorie...                                                NaN                                                                                                                                                       \n",
      "Computers&Accessories|Accessories&Peripherals|A...                                                NaN                                                                                                                                                       \n",
      "Computers&Accessories|Accessories&Peripherals|A...                                                NaN                                                                                                                                                       \n",
      "Computers&Accessories|Accessories&Peripherals|A...                                                NaN                                                                                                                                                       \n",
      "Computers&Accessories|Accessories&Peripherals|A...                                                NaN                                                                                                                                                       \n",
      "...                                                                                               ...                                                                                                                                                       \n",
      "OfficeProducts|OfficePaperProducts|Paper|Statio...                                                NaN                                                                                                                                                       \n",
      "OfficeProducts|OfficePaperProducts|Paper|Statio...                                                NaN                                                                                                                                                       \n",
      "OfficeProducts|OfficePaperProducts|Paper|Statio...                                                NaN                                                                                                                                                       \n",
      "OfficeProducts|OfficePaperProducts|Paper|Statio...                                                NaN                                                                                                                                                       \n",
      "Toys&Games|Arts&Crafts|Drawing&PaintingSupplies...                                                NaN                                                                                                                                                       \n",
      "\n",
      "product_name                                        pTron Solero TB301 3A Type-C Data and Fast Charging Cable, Made in India, 480Mbps Data Sync, Strong and Durable 1.5-Meter Nylon Braided USB Cable for Type-C Devices for Charging Adapter (Black)  \\\n",
      "category                                                                                                                                                                                                                                                \n",
      "Car&Motorbike|CarAccessories|InteriorAccessorie...                                                NaN                                                                                                                                                   \n",
      "Computers&Accessories|Accessories&Peripherals|A...                                                NaN                                                                                                                                                   \n",
      "Computers&Accessories|Accessories&Peripherals|A...                                                NaN                                                                                                                                                   \n",
      "Computers&Accessories|Accessories&Peripherals|A...                                                NaN                                                                                                                                                   \n",
      "Computers&Accessories|Accessories&Peripherals|A...                                                NaN                                                                                                                                                   \n",
      "...                                                                                               ...                                                                                                                                                   \n",
      "OfficeProducts|OfficePaperProducts|Paper|Statio...                                                NaN                                                                                                                                                   \n",
      "OfficeProducts|OfficePaperProducts|Paper|Statio...                                                NaN                                                                                                                                                   \n",
      "OfficeProducts|OfficePaperProducts|Paper|Statio...                                                NaN                                                                                                                                                   \n",
      "OfficeProducts|OfficePaperProducts|Paper|Statio...                                                NaN                                                                                                                                                   \n",
      "Toys&Games|Arts&Crafts|Drawing&PaintingSupplies...                                                NaN                                                                                                                                                   \n",
      "\n",
      "product_name                                        pTron Volta Dual Port 12W Smart USB Charger Adapter, Multi-Layer Protection, Made in India, BIS Certified, Fast Charging Power Adaptor Without Cable for All iOS & Android Devices (Black)  \\\n",
      "category                                                                                                                                                                                                                                         \n",
      "Car&Motorbike|CarAccessories|InteriorAccessorie...                                                NaN                                                                                                                                            \n",
      "Computers&Accessories|Accessories&Peripherals|A...                                                NaN                                                                                                                                            \n",
      "Computers&Accessories|Accessories&Peripherals|A...                                                NaN                                                                                                                                            \n",
      "Computers&Accessories|Accessories&Peripherals|A...                                                NaN                                                                                                                                            \n",
      "Computers&Accessories|Accessories&Peripherals|A...                                                NaN                                                                                                                                            \n",
      "...                                                                                               ...                                                                                                                                            \n",
      "OfficeProducts|OfficePaperProducts|Paper|Statio...                                                NaN                                                                                                                                            \n",
      "OfficeProducts|OfficePaperProducts|Paper|Statio...                                                NaN                                                                                                                                            \n",
      "OfficeProducts|OfficePaperProducts|Paper|Statio...                                                NaN                                                                                                                                            \n",
      "OfficeProducts|OfficePaperProducts|Paper|Statio...                                                NaN                                                                                                                                            \n",
      "Toys&Games|Arts&Crafts|Drawing&PaintingSupplies...                                                NaN                                                                                                                                            \n",
      "\n",
      "product_name                                        realme 10W Fast Charging Micro-USB Cable (Braided, Black)  \\\n",
      "category                                                                                                        \n",
      "Car&Motorbike|CarAccessories|InteriorAccessorie...                                                NaN           \n",
      "Computers&Accessories|Accessories&Peripherals|A...                                                NaN           \n",
      "Computers&Accessories|Accessories&Peripherals|A...                                                NaN           \n",
      "Computers&Accessories|Accessories&Peripherals|A...                                                NaN           \n",
      "Computers&Accessories|Accessories&Peripherals|A...                                                NaN           \n",
      "...                                                                                               ...           \n",
      "OfficeProducts|OfficePaperProducts|Paper|Statio...                                                NaN           \n",
      "OfficeProducts|OfficePaperProducts|Paper|Statio...                                                NaN           \n",
      "OfficeProducts|OfficePaperProducts|Paper|Statio...                                                NaN           \n",
      "OfficeProducts|OfficePaperProducts|Paper|Statio...                                                NaN           \n",
      "Toys&Games|Arts&Crafts|Drawing&PaintingSupplies...                                                NaN           \n",
      "\n",
      "product_name                                        realme Buds Classic Wired in Ear Earphones with Mic (Black)  \\\n",
      "category                                                                                                          \n",
      "Car&Motorbike|CarAccessories|InteriorAccessorie...                                                NaN             \n",
      "Computers&Accessories|Accessories&Peripherals|A...                                                NaN             \n",
      "Computers&Accessories|Accessories&Peripherals|A...                                                NaN             \n",
      "Computers&Accessories|Accessories&Peripherals|A...                                                NaN             \n",
      "Computers&Accessories|Accessories&Peripherals|A...                                                NaN             \n",
      "...                                                                                               ...             \n",
      "OfficeProducts|OfficePaperProducts|Paper|Statio...                                                NaN             \n",
      "OfficeProducts|OfficePaperProducts|Paper|Statio...                                                NaN             \n",
      "OfficeProducts|OfficePaperProducts|Paper|Statio...                                                NaN             \n",
      "OfficeProducts|OfficePaperProducts|Paper|Statio...                                                NaN             \n",
      "Toys&Games|Arts&Crafts|Drawing&PaintingSupplies...                                                NaN             \n",
      "\n",
      "product_name                                        realme Buds Wireless in Ear Bluetooth Earphones with mic, 11.2mm Bass Boost Driver, Magnetic Fast Pair, Fast Charging and 12 Hrs Playtime (Yellow)  \\\n",
      "category                                                                                                                                                                                                 \n",
      "Car&Motorbike|CarAccessories|InteriorAccessorie...                                                NaN                                                                                                    \n",
      "Computers&Accessories|Accessories&Peripherals|A...                                                NaN                                                                                                    \n",
      "Computers&Accessories|Accessories&Peripherals|A...                                                NaN                                                                                                    \n",
      "Computers&Accessories|Accessories&Peripherals|A...                                                NaN                                                                                                    \n",
      "Computers&Accessories|Accessories&Peripherals|A...                                                NaN                                                                                                    \n",
      "...                                                                                               ...                                                                                                    \n",
      "OfficeProducts|OfficePaperProducts|Paper|Statio...                                                NaN                                                                                                    \n",
      "OfficeProducts|OfficePaperProducts|Paper|Statio...                                                NaN                                                                                                    \n",
      "OfficeProducts|OfficePaperProducts|Paper|Statio...                                                NaN                                                                                                    \n",
      "OfficeProducts|OfficePaperProducts|Paper|Statio...                                                NaN                                                                                                    \n",
      "Toys&Games|Arts&Crafts|Drawing&PaintingSupplies...                                                NaN                                                                                                    \n",
      "\n",
      "product_name                                        realme narzo 50 (Speed Blue, 4GB RAM+64GB Storage) Helio G96 Processor | 50MP AI Triple Camera | 120Hz Ultra Smooth Display  \\\n",
      "category                                                                                                                                                                          \n",
      "Car&Motorbike|CarAccessories|InteriorAccessorie...                                                NaN                                                                             \n",
      "Computers&Accessories|Accessories&Peripherals|A...                                                NaN                                                                             \n",
      "Computers&Accessories|Accessories&Peripherals|A...                                                NaN                                                                             \n",
      "Computers&Accessories|Accessories&Peripherals|A...                                                NaN                                                                             \n",
      "Computers&Accessories|Accessories&Peripherals|A...                                                NaN                                                                             \n",
      "...                                                                                               ...                                                                             \n",
      "OfficeProducts|OfficePaperProducts|Paper|Statio...                                                NaN                                                                             \n",
      "OfficeProducts|OfficePaperProducts|Paper|Statio...                                                NaN                                                                             \n",
      "OfficeProducts|OfficePaperProducts|Paper|Statio...                                                NaN                                                                             \n",
      "OfficeProducts|OfficePaperProducts|Paper|Statio...                                                NaN                                                                             \n",
      "Toys&Games|Arts&Crafts|Drawing&PaintingSupplies...                                                NaN                                                                             \n",
      "\n",
      "product_name                                        realme narzo 50i (Mint Green, 2GB RAM+32GB Storage) Octa Core Processor | 6.5\" inch Large Display  \\\n",
      "category                                                                                                                                                \n",
      "Car&Motorbike|CarAccessories|InteriorAccessorie...                                                NaN                                                   \n",
      "Computers&Accessories|Accessories&Peripherals|A...                                                NaN                                                   \n",
      "Computers&Accessories|Accessories&Peripherals|A...                                                NaN                                                   \n",
      "Computers&Accessories|Accessories&Peripherals|A...                                                NaN                                                   \n",
      "Computers&Accessories|Accessories&Peripherals|A...                                                NaN                                                   \n",
      "...                                                                                               ...                                                   \n",
      "OfficeProducts|OfficePaperProducts|Paper|Statio...                                                NaN                                                   \n",
      "OfficeProducts|OfficePaperProducts|Paper|Statio...                                                NaN                                                   \n",
      "OfficeProducts|OfficePaperProducts|Paper|Statio...                                                NaN                                                   \n",
      "OfficeProducts|OfficePaperProducts|Paper|Statio...                                                NaN                                                   \n",
      "Toys&Games|Arts&Crafts|Drawing&PaintingSupplies...                                                NaN                                                   \n",
      "\n",
      "product_name                                        rts [2 Pack] Mini USB C Type C Adapter Plug, Type C Female to USB A Male Charger Charging Cable Adapter Converter compatible for iPhone, Samsung S20 ultra/S21/S10/S8/S9/MacBook Pro iPad Silver  \\\n",
      "category                                                                                                                                                                                                                                               \n",
      "Car&Motorbike|CarAccessories|InteriorAccessorie...                                                NaN                                                                                                                                                  \n",
      "Computers&Accessories|Accessories&Peripherals|A...                                                4.3                                                                                                                                                  \n",
      "Computers&Accessories|Accessories&Peripherals|A...                                                NaN                                                                                                                                                  \n",
      "Computers&Accessories|Accessories&Peripherals|A...                                                NaN                                                                                                                                                  \n",
      "Computers&Accessories|Accessories&Peripherals|A...                                                NaN                                                                                                                                                  \n",
      "...                                                                                               ...                                                                                                                                                  \n",
      "OfficeProducts|OfficePaperProducts|Paper|Statio...                                                NaN                                                                                                                                                  \n",
      "OfficeProducts|OfficePaperProducts|Paper|Statio...                                                NaN                                                                                                                                                  \n",
      "OfficeProducts|OfficePaperProducts|Paper|Statio...                                                NaN                                                                                                                                                  \n",
      "OfficeProducts|OfficePaperProducts|Paper|Statio...                                                NaN                                                                                                                                                  \n",
      "Toys&Games|Arts&Crafts|Drawing&PaintingSupplies...                                                NaN                                                                                                                                                  \n",
      "\n",
      "product_name                                        tizum HDMI to VGA Adapter Cable 1080P for Projector, Computer, Laptop, TV, Projectors & TV  \n",
      "category                                                                                                                                        \n",
      "Car&Motorbike|CarAccessories|InteriorAccessorie...                                                NaN                                           \n",
      "Computers&Accessories|Accessories&Peripherals|A...                                                NaN                                           \n",
      "Computers&Accessories|Accessories&Peripherals|A...                                                NaN                                           \n",
      "Computers&Accessories|Accessories&Peripherals|A...                                                NaN                                           \n",
      "Computers&Accessories|Accessories&Peripherals|A...                                                NaN                                           \n",
      "...                                                                                               ...                                           \n",
      "OfficeProducts|OfficePaperProducts|Paper|Statio...                                                NaN                                           \n",
      "OfficeProducts|OfficePaperProducts|Paper|Statio...                                                NaN                                           \n",
      "OfficeProducts|OfficePaperProducts|Paper|Statio...                                                NaN                                           \n",
      "OfficeProducts|OfficePaperProducts|Paper|Statio...                                                NaN                                           \n",
      "Toys&Games|Arts&Crafts|Drawing&PaintingSupplies...                                                NaN                                           \n",
      "\n",
      "[211 rows x 1337 columns]\n"
     ]
    }
   ],
   "source": [
    "# Pivot table of rating by category and product name\n",
    "pivot_table = df.pivot_table(values='rating', index='category', columns='product_name', aggfunc='mean')\n",
    "print(pivot_table)"
   ]
  },
  {
   "cell_type": "markdown",
   "metadata": {},
   "source": [
    "# Questions"
   ]
  },
  {
   "cell_type": "markdown",
   "metadata": {},
   "source": [
    "### Q.1 What is the average rating for each product category?"
   ]
  },
  {
   "cell_type": "code",
   "execution_count": 59,
   "metadata": {},
   "outputs": [
    {
     "data": {
      "text/plain": [
       "category\n",
       "Car&Motorbike|CarAccessories|InteriorAccessories|AirPurifiers&Ionizers                3.80\n",
       "Computers&Accessories|Accessories&Peripherals|Adapters|USBtoUSBAdapters               4.15\n",
       "Computers&Accessories|Accessories&Peripherals|Audio&VideoAccessories|PCHeadsets       3.50\n",
       "Computers&Accessories|Accessories&Peripherals|Audio&VideoAccessories|PCMicrophones    3.60\n",
       "Computers&Accessories|Accessories&Peripherals|Audio&VideoAccessories|PCSpeakers       4.05\n",
       "Name: rating, dtype: float64"
      ]
     },
     "execution_count": 59,
     "metadata": {},
     "output_type": "execute_result"
    }
   ],
   "source": [
    "avg_rating_by_category = df.groupby('category')['rating'].mean()\n",
    "avg_rating_by_category.head()"
   ]
  },
  {
   "cell_type": "markdown",
   "metadata": {},
   "source": [
    "### Q.2 What are the top 10 product category based on rating?"
   ]
  },
  {
   "cell_type": "code",
   "execution_count": 60,
   "metadata": {},
   "outputs": [
    {
     "data": {
      "text/plain": [
       "category\n",
       "Computers&Accessories|Accessories&Peripherals|Cables&Accessories|Cables|EthernetCables                4.40\n",
       "Computers&Accessories|Accessories&Peripherals|Cables&Accessories|Cables|DVICables                     4.40\n",
       "Computers&Accessories|Accessories&Peripherals|Audio&VideoAccessories|Webcams&VoIPEquipment|Webcams    4.20\n",
       "Computers&Accessories|Accessories&Peripherals|Adapters|USBtoUSBAdapters                               4.15\n",
       "Computers&Accessories|Accessories&Peripherals|Cables&Accessories|CableConnectionProtectors            4.05\n",
       "Computers&Accessories|Accessories&Peripherals|Audio&VideoAccessories|PCSpeakers                       4.05\n",
       "Computers&Accessories|Accessories&Peripherals|Cables&Accessories|Cables|SATACables                    3.90\n",
       "Car&Motorbike|CarAccessories|InteriorAccessories|AirPurifiers&Ionizers                                3.80\n",
       "Computers&Accessories|Accessories&Peripherals|Audio&VideoAccessories|PCMicrophones                    3.60\n",
       "Computers&Accessories|Accessories&Peripherals|Audio&VideoAccessories|PCHeadsets                       3.50\n",
       "Name: rating, dtype: float64"
      ]
     },
     "execution_count": 60,
     "metadata": {},
     "output_type": "execute_result"
    }
   ],
   "source": [
    "avg_rating_by_category.head(10).sort_values(ascending=False)"
   ]
  },
  {
   "cell_type": "markdown",
   "metadata": {},
   "source": [
    "### Q.3 Draw a histogram for discounted_price column?"
   ]
  },
  {
   "cell_type": "code",
   "execution_count": 61,
   "metadata": {},
   "outputs": [
    {
     "data": {
      "text/plain": [
       "<AxesSubplot:>"
      ]
     },
     "execution_count": 61,
     "metadata": {},
     "output_type": "execute_result"
    },
    {
     "data": {
      "image/png": "[encoded data removed]",
      "text/plain": [
       "<Figure size 432x288 with 1 Axes>"
      ]
     },
     "metadata": {
      "needs_background": "light"
     },
     "output_type": "display_data"
    }
   ],
   "source": [
    "df[\"discounted_price\"].hist(label=\"Discounted Price\")"
   ]
  },
  {
   "cell_type": "markdown",
   "metadata": {},
   "source": [
    "### Q.4 What are the most popular product name?"
   ]
  },
  {
   "cell_type": "code",
   "execution_count": 62,
   "metadata": {},
   "outputs": [
    {
     "data": {
      "text/plain": [
       "Fire-Boltt Ninja Call Pro Plus 1.83\" Smart Watch with Bluetooth Calling, AI Voice Assistance, 100 Sports Modes IP67 Rating, 240*280 Pixel High Resolution                                            5\n",
       "Fire-Boltt Phoenix Smart Watch with Bluetooth Calling 1.3\",120+ Sports Modes, 240*240 PX High Res with SpO2, Heart Rate Monitoring & IP67 Rating                                                     4\n",
       "Wayona Nylon Braided USB to Lightning Fast Charging and Data Sync Cable Compatible for iPhone 13, 12,11, X, 8, 7, 6, 5, iPad Air, Pro, Mini (3 FT Pack of 1, Grey)                                   3\n",
       "Fire-Boltt Visionary 1.78\" AMOLED Bluetooth Calling Smartwatch with 368*448 Pixel Resolution 100+ Sports Mode, TWS Connection, Voice Assistance, SPO2 & Heart Rate Monitoring                        3\n",
       "Sounce Fast Phone Charging Cable & Data Sync USB Cable Compatible for iPhone 13, 12,11, X, 8, 7, 6, 5, iPad Air, Pro, Mini & iOS Devices                                                             3\n",
       "Samsung Galaxy M13 5G (Aqua Green, 6GB, 128GB Storage) | 5000mAh Battery | Upto 12GB RAM with RAM Plus                                                                                               3\n",
       "Fire-Boltt India's No 1 Smartwatch Brand Talk 2 Bluetooth Calling Smartwatch with Dual Button, Hands On Voice Assistance, 60 Sports Modes, in Built Mic & Speaker with IP68 Rating                   3\n",
       "MI Braided USB Type-C Cable for Charging Adapter (Red)                                                                                                                                               3\n",
       "pTron Solero TB301 3A Type-C Data and Fast Charging Cable, Made in India, 480Mbps Data Sync, Strong and Durable 1.5-Meter Nylon Braided USB Cable for Type-C Devices for Charging Adapter (Black)    3\n",
       "JBL C100SI Wired In Ear Headphones with Mic, JBL Pure Bass Sound, One Button Multi-function Remote, Angled Buds for Comfort fit (Black)                                                              2\n",
       "Name: product_name, dtype: int64"
      ]
     },
     "execution_count": 62,
     "metadata": {},
     "output_type": "execute_result"
    }
   ],
   "source": [
    "product_counts = df.product_name.value_counts()\n",
    "\n",
    "product_counts.head(10).sort_values(ascending=False)\n"
   ]
  },
  {
   "cell_type": "markdown",
   "metadata": {},
   "source": [
    "### Q5 What is the correlation between discounted_price and rating"
   ]
  },
  {
   "cell_type": "code",
   "execution_count": 63,
   "metadata": {},
   "outputs": [
    {
     "name": "stdout",
     "output_type": "stream",
     "text": [
      "Correlation between discounted_price and rating: 0.12\n"
     ]
    }
   ],
   "source": [
    "# Calculate the correlation coefficient\n",
    "correlation_coefficient = df[\"discounted_price\"].corr(df[\"rating\"])\n",
    "\n",
    "# Print the correlation coefficient with two decimal places\n",
    "print(f\"Correlation between discounted_price and rating: {correlation_coefficient:.2f}\")"
   ]
  },
  {
   "cell_type": "markdown",
   "metadata": {},
   "source": [
    "### Q6. What are the Top 10 categories based with highest ratings?"
   ]
  },
  {
   "cell_type": "code",
   "execution_count": 64,
   "metadata": {},
   "outputs": [
    {
     "name": "stdout",
     "output_type": "stream",
     "text": [
      "                                              category  rating\n",
      "57                       Computers&Accessories|Tablets     4.6\n",
      "194          HomeImprovement|Electrical|CordManagement     4.5\n",
      "81   Electronics|HomeAudio|MediaStreamingDevices|St...     4.5\n",
      "62    Electronics|Cameras&Photography|Accessories|Film     4.5\n",
      "118       Electronics|PowerAccessories|SurgeProtectors     4.5\n",
      "196  OfficeProducts|OfficeElectronics|Calculators|B...     4.5\n",
      "38             Computers&Accessories|Components|Memory     4.5\n",
      "123      Home&Kitchen|CraftMaterials|PaintingMaterials     4.5\n",
      "175  Home&Kitchen|Kitchen&HomeAppliances|SmallKitch...     4.5\n",
      "148  Home&Kitchen|Kitchen&HomeAppliances|Coffee,Tea...     4.5\n"
     ]
    }
   ],
   "source": [
    "# Group data by category and calculate average rating\n",
    "average_ratings = df.groupby(\"category\")[\"rating\"].mean().reset_index()\n",
    "\n",
    "# Sort by average rating in descending order\n",
    "average_ratings = average_ratings.sort_values(by=\"rating\", ascending=False)\n",
    "\n",
    "print(average_ratings.head(10))"
   ]
  },
  {
   "cell_type": "code",
   "execution_count": 65,
   "metadata": {},
   "outputs": [
    {
     "data": {
      "text/html": [
       "<div>\n",
       "<style scoped>\n",
       "    .dataframe tbody tr th:only-of-type {\n",
       "        vertical-align: middle;\n",
       "    }\n",
       "\n",
       "    .dataframe tbody tr th {\n",
       "        vertical-align: top;\n",
       "    }\n",
       "\n",
       "    .dataframe thead th {\n",
       "        text-align: right;\n",
       "    }\n",
       "</style>\n",
       "<table border=\"1\" class=\"dataframe\">\n",
       "  <thead>\n",
       "    <tr style=\"text-align: right;\">\n",
       "      <th></th>\n",
       "      <th>discounted_price</th>\n",
       "      <th>actual_price</th>\n",
       "      <th>discount_percentage</th>\n",
       "      <th>rating</th>\n",
       "      <th>rating_count</th>\n",
       "    </tr>\n",
       "  </thead>\n",
       "  <tbody>\n",
       "    <tr>\n",
       "      <th>discounted_price</th>\n",
       "      <td>1.000000</td>\n",
       "      <td>0.961581</td>\n",
       "      <td>-0.238973</td>\n",
       "      <td>0.124103</td>\n",
       "      <td>-0.028822</td>\n",
       "    </tr>\n",
       "    <tr>\n",
       "      <th>actual_price</th>\n",
       "      <td>0.961581</td>\n",
       "      <td>1.000000</td>\n",
       "      <td>-0.112344</td>\n",
       "      <td>0.125220</td>\n",
       "      <td>-0.037672</td>\n",
       "    </tr>\n",
       "    <tr>\n",
       "      <th>discount_percentage</th>\n",
       "      <td>-0.238973</td>\n",
       "      <td>-0.112344</td>\n",
       "      <td>1.000000</td>\n",
       "      <td>-0.160180</td>\n",
       "      <td>0.016727</td>\n",
       "    </tr>\n",
       "    <tr>\n",
       "      <th>rating</th>\n",
       "      <td>0.124103</td>\n",
       "      <td>0.125220</td>\n",
       "      <td>-0.160180</td>\n",
       "      <td>1.000000</td>\n",
       "      <td>0.103893</td>\n",
       "    </tr>\n",
       "    <tr>\n",
       "      <th>rating_count</th>\n",
       "      <td>-0.028822</td>\n",
       "      <td>-0.037672</td>\n",
       "      <td>0.016727</td>\n",
       "      <td>0.103893</td>\n",
       "      <td>1.000000</td>\n",
       "    </tr>\n",
       "  </tbody>\n",
       "</table>\n",
       "</div>"
      ],
      "text/plain": [
       "                     discounted_price  actual_price  discount_percentage  \\\n",
       "discounted_price             1.000000      0.961581            -0.238973   \n",
       "actual_price                 0.961581      1.000000            -0.112344   \n",
       "discount_percentage         -0.238973     -0.112344             1.000000   \n",
       "rating                       0.124103      0.125220            -0.160180   \n",
       "rating_count                -0.028822     -0.037672             0.016727   \n",
       "\n",
       "                       rating  rating_count  \n",
       "discounted_price     0.124103     -0.028822  \n",
       "actual_price         0.125220     -0.037672  \n",
       "discount_percentage -0.160180      0.016727  \n",
       "rating               1.000000      0.103893  \n",
       "rating_count         0.103893      1.000000  "
      ]
     },
     "execution_count": 65,
     "metadata": {},
     "output_type": "execute_result"
    }
   ],
   "source": [
    "# printing the correlation\n",
    "df.corr()"
   ]
  },
  {
   "cell_type": "code",
   "execution_count": 67,
   "metadata": {},
   "outputs": [
    {
     "data": {
      "image/png": "[encoded data removed]",
      "text/plain": [
       "<Figure size 432x288 with 1 Axes>"
      ]
     },
     "metadata": {
      "needs_background": "light"
     },
     "output_type": "display_data"
    }
   ],
   "source": [
    "import matplotlib.pyplot as plt\n",
    "\n",
    "df.plot()\n",
    "plt.show()"
   ]
  },
  {
   "cell_type": "code",
   "execution_count": 68,
   "metadata": {},
   "outputs": [
    {
     "data": {
      "text/plain": [
       "<AxesSubplot:xlabel='discounted_price', ylabel='actual_price'>"
      ]
     },
     "execution_count": 68,
     "metadata": {},
     "output_type": "execute_result"
    },
    {
     "data": {
      "image/png": "[encoded data removed]",
      "text/plain": [
       "<Figure size 432x288 with 1 Axes>"
      ]
     },
     "metadata": {
      "needs_background": "light"
     },
     "output_type": "display_data"
    }
   ],
   "source": [
    "df.plot(kind = 'scatter', x = 'discounted_price', y = 'actual_price')"
   ]
  },
  {
   "cell_type": "code",
   "execution_count": 71,
   "metadata": {},
   "outputs": [
    {
     "data": {
      "text/plain": [
       "<AxesSubplot:xlabel='discounted_price', ylabel='discount_percentage'>"
      ]
     },
     "execution_count": 71,
     "metadata": {},
     "output_type": "execute_result"
    },
    {
     "data": {
      "image/png": "[encoded data removed]",
      "text/plain": [
       "<Figure size 432x288 with 1 Axes>"
      ]
     },
     "metadata": {
      "needs_background": "light"
     },
     "output_type": "display_data"
    }
   ],
   "source": [
    "df.plot(kind = 'scatter', x = 'discounted_price', y = 'discount_percentage')"
   ]
  },
  {
   "cell_type": "code",
   "execution_count": 72,
   "metadata": {},
   "outputs": [
    {
     "data": {
      "text/plain": [
       "<AxesSubplot:xlabel='discount_percentage', ylabel='actual_price'>"
      ]
     },
     "execution_count": 72,
     "metadata": {},
     "output_type": "execute_result"
    },
    {
     "data": {
      "image/png": "[encoded data removed]",
      "text/plain": [
       "<Figure size 432x288 with 1 Axes>"
      ]
     },
     "metadata": {
      "needs_background": "light"
     },
     "output_type": "display_data"
    }
   ],
   "source": [
    "df.plot(kind = 'scatter', x = 'discount_percentage', y = 'actual_price')"
   ]
  },
  {
   "cell_type": "code",
   "execution_count": null,
   "metadata": {},
   "outputs": [],
   "source": []
  }
 ],
 "metadata": {
  "kernelspec": {
   "display_name": "Python 3",
   "language": "python",
   "name": "python3"
  },
  "language_info": {
   "codemirror_mode": {
    "name": "ipython",
    "version": 3
   },
   "file_extension": ".py",
   "mimetype": "text/x-python",
   "name": "python",
   "nbconvert_exporter": "python",
   "pygments_lexer": "ipython3",
   "version": "3.8.5"
  }
 },
 "nbformat": 4,
 "nbformat_minor": 4
}
